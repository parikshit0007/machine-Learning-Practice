{
 "cells": [
  {
   "cell_type": "code",
   "execution_count": 1,
   "id": "4379a799",
   "metadata": {},
   "outputs": [],
   "source": [
    "\n",
    "import pandas as pd\n",
    "import numpy as np\n",
    "import matplotlib.pyplot as plt\n",
    "import seaborn as sns"
   ]
  },
  {
   "cell_type": "code",
   "execution_count": 2,
   "id": "49fa5772",
   "metadata": {},
   "outputs": [
    {
     "data": {
      "text/html": [
       "<div>\n",
       "<style scoped>\n",
       "    .dataframe tbody tr th:only-of-type {\n",
       "        vertical-align: middle;\n",
       "    }\n",
       "\n",
       "    .dataframe tbody tr th {\n",
       "        vertical-align: top;\n",
       "    }\n",
       "\n",
       "    .dataframe thead th {\n",
       "        text-align: right;\n",
       "    }\n",
       "</style>\n",
       "<table border=\"1\" class=\"dataframe\">\n",
       "  <thead>\n",
       "    <tr style=\"text-align: right;\">\n",
       "      <th></th>\n",
       "      <th>Emp_ID</th>\n",
       "      <th>Name</th>\n",
       "      <th>Age</th>\n",
       "      <th>Dept</th>\n",
       "      <th>Gender</th>\n",
       "    </tr>\n",
       "  </thead>\n",
       "  <tbody>\n",
       "    <tr>\n",
       "      <th>0</th>\n",
       "      <td>125</td>\n",
       "      <td>Aman</td>\n",
       "      <td>32.0</td>\n",
       "      <td>IT</td>\n",
       "      <td>NaN</td>\n",
       "    </tr>\n",
       "    <tr>\n",
       "      <th>1</th>\n",
       "      <td>127</td>\n",
       "      <td>Vipin</td>\n",
       "      <td>30.0</td>\n",
       "      <td>NaN</td>\n",
       "      <td>M</td>\n",
       "    </tr>\n",
       "    <tr>\n",
       "      <th>2</th>\n",
       "      <td>128</td>\n",
       "      <td>Arpit</td>\n",
       "      <td>34.0</td>\n",
       "      <td>FIN</td>\n",
       "      <td>M</td>\n",
       "    </tr>\n",
       "    <tr>\n",
       "      <th>3</th>\n",
       "      <td>130</td>\n",
       "      <td>Vidya</td>\n",
       "      <td>35.0</td>\n",
       "      <td>INV</td>\n",
       "      <td>M</td>\n",
       "    </tr>\n",
       "    <tr>\n",
       "      <th>4</th>\n",
       "      <td>131</td>\n",
       "      <td>Priya</td>\n",
       "      <td>28.0</td>\n",
       "      <td>LOG</td>\n",
       "      <td>F</td>\n",
       "    </tr>\n",
       "    <tr>\n",
       "      <th>5</th>\n",
       "      <td>134</td>\n",
       "      <td>Ankit</td>\n",
       "      <td>39.0</td>\n",
       "      <td>IT</td>\n",
       "      <td>F</td>\n",
       "    </tr>\n",
       "    <tr>\n",
       "      <th>6</th>\n",
       "      <td>128</td>\n",
       "      <td>Arpit</td>\n",
       "      <td>34.0</td>\n",
       "      <td>FIN</td>\n",
       "      <td>M</td>\n",
       "    </tr>\n",
       "    <tr>\n",
       "      <th>7</th>\n",
       "      <td>135</td>\n",
       "      <td>Sneha</td>\n",
       "      <td>NaN</td>\n",
       "      <td>HR</td>\n",
       "      <td>F</td>\n",
       "    </tr>\n",
       "    <tr>\n",
       "      <th>8</th>\n",
       "      <td>131</td>\n",
       "      <td>Priya</td>\n",
       "      <td>28.0</td>\n",
       "      <td>LOG</td>\n",
       "      <td>F</td>\n",
       "    </tr>\n",
       "    <tr>\n",
       "      <th>9</th>\n",
       "      <td>137</td>\n",
       "      <td>Hitesh</td>\n",
       "      <td>27.0</td>\n",
       "      <td>IT</td>\n",
       "      <td>M</td>\n",
       "    </tr>\n",
       "  </tbody>\n",
       "</table>\n",
       "</div>"
      ],
      "text/plain": [
       "   Emp_ID    Name   Age Dept Gender\n",
       "0     125    Aman  32.0   IT    NaN\n",
       "1     127   Vipin  30.0  NaN      M\n",
       "2     128   Arpit  34.0  FIN      M\n",
       "3     130   Vidya  35.0  INV      M\n",
       "4     131   Priya  28.0  LOG      F\n",
       "5     134   Ankit  39.0   IT      F\n",
       "6     128   Arpit  34.0  FIN      M\n",
       "7     135   Sneha   NaN   HR      F\n",
       "8     131   Priya  28.0  LOG      F\n",
       "9     137  Hitesh  27.0   IT      M"
      ]
     },
     "execution_count": 2,
     "metadata": {},
     "output_type": "execute_result"
    }
   ],
   "source": [
    "data = {'Emp_ID' : [125,127,128,130,131,134,128,135,131,137],\n",
    "       'Name' : ['Aman', 'Vipin', 'Arpit', 'Vidya', 'Priya', 'Ankit', 'Arpit','Sneha','Priya', 'Hitesh'],\n",
    "       'Age' : [32,30,34,35,28,39,34,np.nan,28,27],\n",
    "       'Dept' : ['IT',np.nan,'FIN','INV','LOG','IT','FIN','HR','LOG','IT'],\n",
    "       'Gender' : [np.nan, 'M', 'M', 'M' , 'F', 'F', 'M', 'F','F','M']\n",
    "       }\n",
    "df = pd.DataFrame(data)\n",
    "df"
   ]
  },
  {
   "cell_type": "markdown",
   "id": "8acc8b28",
   "metadata": {},
   "source": [
    "### Copies Of DataFrame:\n"
   ]
  },
  {
   "cell_type": "code",
   "execution_count": 3,
   "id": "698f4974",
   "metadata": {},
   "outputs": [],
   "source": [
    "df1 = df.copy()\n",
    "df2 = df.copy()"
   ]
  },
  {
   "cell_type": "markdown",
   "id": "34c07c4e",
   "metadata": {},
   "source": [
    "###  Detect the null value:"
   ]
  },
  {
   "cell_type": "code",
   "execution_count": 4,
   "id": "7272ccb7",
   "metadata": {},
   "outputs": [
    {
     "data": {
      "text/plain": [
       "Emp_ID    0\n",
       "Name      0\n",
       "Age       1\n",
       "Dept      1\n",
       "Gender    1\n",
       "dtype: int64"
      ]
     },
     "execution_count": 4,
     "metadata": {},
     "output_type": "execute_result"
    }
   ],
   "source": [
    "df.isnull().sum()"
   ]
  },
  {
   "cell_type": "markdown",
   "id": "fce1eaed",
   "metadata": {},
   "source": [
    "### Filling Null values: "
   ]
  },
  {
   "cell_type": "code",
   "execution_count": 5,
   "id": "16c85144",
   "metadata": {},
   "outputs": [
    {
     "data": {
      "text/plain": [
       "34.0    2\n",
       "28.0    2\n",
       "32.0    1\n",
       "30.0    1\n",
       "35.0    1\n",
       "39.0    1\n",
       "27.0    1\n",
       "Name: Age, dtype: int64"
      ]
     },
     "execution_count": 5,
     "metadata": {},
     "output_type": "execute_result"
    }
   ],
   "source": [
    "df['Age'].value_counts()"
   ]
  },
  {
   "cell_type": "code",
   "execution_count": 6,
   "id": "62aab79d",
   "metadata": {},
   "outputs": [],
   "source": [
    "df['Age'].fillna(df['Age'].mean(),inplace = True)"
   ]
  },
  {
   "cell_type": "code",
   "execution_count": 7,
   "id": "48b9313a",
   "metadata": {},
   "outputs": [
    {
     "data": {
      "text/plain": [
       "Emp_ID    0\n",
       "Name      0\n",
       "Age       0\n",
       "Dept      1\n",
       "Gender    1\n",
       "dtype: int64"
      ]
     },
     "execution_count": 7,
     "metadata": {},
     "output_type": "execute_result"
    }
   ],
   "source": [
    "df.isnull().sum()"
   ]
  },
  {
   "cell_type": "code",
   "execution_count": 8,
   "id": "6cb3786d",
   "metadata": {},
   "outputs": [
    {
     "data": {
      "text/plain": [
       "IT     3\n",
       "FIN    2\n",
       "LOG    2\n",
       "INV    1\n",
       "HR     1\n",
       "Name: Dept, dtype: int64"
      ]
     },
     "execution_count": 8,
     "metadata": {},
     "output_type": "execute_result"
    }
   ],
   "source": [
    "df['Dept'].value_counts()\n",
    "# This is categorical column so we have use a mode for fill the null value"
   ]
  },
  {
   "cell_type": "code",
   "execution_count": 9,
   "id": "51cafdc7",
   "metadata": {},
   "outputs": [],
   "source": [
    "# the IT is more time in the categorical column so we can use IT for the fill the null values:\n",
    "df['Dept'].fillna('IT',inplace = True)"
   ]
  },
  {
   "cell_type": "code",
   "execution_count": 10,
   "id": "86fd0b26",
   "metadata": {},
   "outputs": [
    {
     "data": {
      "text/plain": [
       "Emp_ID    0\n",
       "Name      0\n",
       "Age       0\n",
       "Dept      0\n",
       "Gender    1\n",
       "dtype: int64"
      ]
     },
     "execution_count": 10,
     "metadata": {},
     "output_type": "execute_result"
    }
   ],
   "source": [
    "df.isnull().sum()"
   ]
  },
  {
   "cell_type": "code",
   "execution_count": 11,
   "id": "23f18017",
   "metadata": {},
   "outputs": [
    {
     "data": {
      "text/plain": [
       "M    5\n",
       "F    4\n",
       "Name: Gender, dtype: int64"
      ]
     },
     "execution_count": 11,
     "metadata": {},
     "output_type": "execute_result"
    }
   ],
   "source": [
    "df['Gender'].value_counts()"
   ]
  },
  {
   "cell_type": "code",
   "execution_count": 12,
   "id": "0130a36c",
   "metadata": {},
   "outputs": [],
   "source": [
    "df['Gender'].fillna('M', inplace = True)\n"
   ]
  },
  {
   "cell_type": "code",
   "execution_count": 13,
   "id": "ef05f15d",
   "metadata": {},
   "outputs": [
    {
     "data": {
      "text/plain": [
       "Emp_ID    0\n",
       "Name      0\n",
       "Age       0\n",
       "Dept      0\n",
       "Gender    0\n",
       "dtype: int64"
      ]
     },
     "execution_count": 13,
     "metadata": {},
     "output_type": "execute_result"
    }
   ],
   "source": [
    "df.isnull().sum()"
   ]
  },
  {
   "cell_type": "markdown",
   "id": "8bd96fb6",
   "metadata": {},
   "source": [
    "### How to Drop a Column:\n",
    "1. Drop the column that we have no use in data:"
   ]
  },
  {
   "cell_type": "code",
   "execution_count": 20,
   "id": "36c925b1",
   "metadata": {},
   "outputs": [
    {
     "data": {
      "text/html": [
       "<div>\n",
       "<style scoped>\n",
       "    .dataframe tbody tr th:only-of-type {\n",
       "        vertical-align: middle;\n",
       "    }\n",
       "\n",
       "    .dataframe tbody tr th {\n",
       "        vertical-align: top;\n",
       "    }\n",
       "\n",
       "    .dataframe thead th {\n",
       "        text-align: right;\n",
       "    }\n",
       "</style>\n",
       "<table border=\"1\" class=\"dataframe\">\n",
       "  <thead>\n",
       "    <tr style=\"text-align: right;\">\n",
       "      <th></th>\n",
       "      <th>Name</th>\n",
       "      <th>Age</th>\n",
       "      <th>Dept</th>\n",
       "      <th>Gender</th>\n",
       "    </tr>\n",
       "  </thead>\n",
       "  <tbody>\n",
       "    <tr>\n",
       "      <th>0</th>\n",
       "      <td>Aman</td>\n",
       "      <td>32.0</td>\n",
       "      <td>IT</td>\n",
       "      <td>NaN</td>\n",
       "    </tr>\n",
       "    <tr>\n",
       "      <th>1</th>\n",
       "      <td>Vipin</td>\n",
       "      <td>30.0</td>\n",
       "      <td>NaN</td>\n",
       "      <td>M</td>\n",
       "    </tr>\n",
       "    <tr>\n",
       "      <th>2</th>\n",
       "      <td>Arpit</td>\n",
       "      <td>34.0</td>\n",
       "      <td>FIN</td>\n",
       "      <td>M</td>\n",
       "    </tr>\n",
       "    <tr>\n",
       "      <th>3</th>\n",
       "      <td>Vidya</td>\n",
       "      <td>35.0</td>\n",
       "      <td>INV</td>\n",
       "      <td>M</td>\n",
       "    </tr>\n",
       "    <tr>\n",
       "      <th>4</th>\n",
       "      <td>Priya</td>\n",
       "      <td>28.0</td>\n",
       "      <td>LOG</td>\n",
       "      <td>F</td>\n",
       "    </tr>\n",
       "  </tbody>\n",
       "</table>\n",
       "</div>"
      ],
      "text/plain": [
       "    Name   Age Dept Gender\n",
       "0   Aman  32.0   IT    NaN\n",
       "1  Vipin  30.0  NaN      M\n",
       "2  Arpit  34.0  FIN      M\n",
       "3  Vidya  35.0  INV      M\n",
       "4  Priya  28.0  LOG      F"
      ]
     },
     "execution_count": 20,
     "metadata": {},
     "output_type": "execute_result"
    }
   ],
   "source": [
    "df1.head()"
   ]
  },
  {
   "cell_type": "code",
   "execution_count": 21,
   "id": "6c08bc3d",
   "metadata": {},
   "outputs": [],
   "source": [
    "df.drop('Emp_ID',axis= 1,inplace = True)"
   ]
  },
  {
   "cell_type": "code",
   "execution_count": 22,
   "id": "60d30e37",
   "metadata": {},
   "outputs": [
    {
     "data": {
      "text/plain": [
       "(10, 4)"
      ]
     },
     "execution_count": 22,
     "metadata": {},
     "output_type": "execute_result"
    }
   ],
   "source": [
    "df.shape"
   ]
  },
  {
   "cell_type": "code",
   "execution_count": 26,
   "id": "f582cf33",
   "metadata": {},
   "outputs": [
    {
     "data": {
      "text/plain": [
       "Index(['Name', 'Age', 'Dept', 'Gender'], dtype='object')"
      ]
     },
     "execution_count": 26,
     "metadata": {},
     "output_type": "execute_result"
    }
   ],
   "source": [
    "df.columns"
   ]
  },
  {
   "cell_type": "markdown",
   "id": "00afcf08",
   "metadata": {},
   "source": [
    "###  Using SimpleImputer to fill a null value:"
   ]
  },
  {
   "cell_type": "code",
   "execution_count": 27,
   "id": "e59c826d",
   "metadata": {},
   "outputs": [
    {
     "data": {
      "text/plain": [
       "Name      0\n",
       "Age       1\n",
       "Dept      1\n",
       "Gender    1\n",
       "dtype: int64"
      ]
     },
     "execution_count": 27,
     "metadata": {},
     "output_type": "execute_result"
    }
   ],
   "source": [
    "df1.isnull().sum()"
   ]
  },
  {
   "cell_type": "code",
   "execution_count": 30,
   "id": "b47d91ae",
   "metadata": {},
   "outputs": [],
   "source": [
    "from sklearn.impute import SimpleImputer\n",
    "simple_numerical_cols = SimpleImputer(missing_values = np.nan, strategy = 'mean')\n",
    "simple_categorical_cols = SimpleImputer(missing_values = np.nan, strategy = 'most_frequent')"
   ]
  },
  {
   "cell_type": "code",
   "execution_count": 34,
   "id": "8690909b",
   "metadata": {},
   "outputs": [
    {
     "data": {
      "text/plain": [
       "array([[32.        ],\n",
       "       [30.        ],\n",
       "       [34.        ],\n",
       "       [35.        ],\n",
       "       [28.        ],\n",
       "       [39.        ],\n",
       "       [34.        ],\n",
       "       [31.88888889],\n",
       "       [28.        ],\n",
       "       [27.        ]])"
      ]
     },
     "execution_count": 34,
     "metadata": {},
     "output_type": "execute_result"
    }
   ],
   "source": [
    "age_imp = simple_numerical_cols.fit_transform(df1[['Age']])\n",
    "age_imp"
   ]
  },
  {
   "cell_type": "code",
   "execution_count": 38,
   "id": "afe85463",
   "metadata": {},
   "outputs": [
    {
     "data": {
      "text/plain": [
       "array([['IT'],\n",
       "       ['IT'],\n",
       "       ['FIN'],\n",
       "       ['INV'],\n",
       "       ['LOG'],\n",
       "       ['IT'],\n",
       "       ['FIN'],\n",
       "       ['HR'],\n",
       "       ['LOG'],\n",
       "       ['IT']], dtype=object)"
      ]
     },
     "execution_count": 38,
     "metadata": {},
     "output_type": "execute_result"
    }
   ],
   "source": [
    "dept_imp = simple_categorical_cols.fit_transform(df1[['Dept']])\n",
    "dept_imp"
   ]
  },
  {
   "cell_type": "code",
   "execution_count": 40,
   "id": "19b5c00b",
   "metadata": {},
   "outputs": [
    {
     "data": {
      "text/plain": [
       "0     IT\n",
       "1    NaN\n",
       "2    FIN\n",
       "3    INV\n",
       "4    LOG\n",
       "5     IT\n",
       "6    FIN\n",
       "7     HR\n",
       "8    LOG\n",
       "9     IT\n",
       "Name: Dept, dtype: object"
      ]
     },
     "execution_count": 40,
     "metadata": {},
     "output_type": "execute_result"
    }
   ],
   "source": [
    "df1['Dept']"
   ]
  },
  {
   "cell_type": "code",
   "execution_count": 41,
   "id": "d4d32bb0",
   "metadata": {},
   "outputs": [
    {
     "data": {
      "text/plain": [
       "array([['M'],\n",
       "       ['M'],\n",
       "       ['M'],\n",
       "       ['M'],\n",
       "       ['F'],\n",
       "       ['F'],\n",
       "       ['M'],\n",
       "       ['F'],\n",
       "       ['F'],\n",
       "       ['M']], dtype=object)"
      ]
     },
     "execution_count": 41,
     "metadata": {},
     "output_type": "execute_result"
    }
   ],
   "source": [
    "gender_imp = simple_categorical_cols.fit_transform(df1[['Gender']])\n",
    "gender_imp"
   ]
  },
  {
   "cell_type": "code",
   "execution_count": 42,
   "id": "cf7410c6",
   "metadata": {},
   "outputs": [
    {
     "data": {
      "text/plain": [
       "0    NaN\n",
       "1      M\n",
       "2      M\n",
       "3      M\n",
       "4      F\n",
       "5      F\n",
       "6      M\n",
       "7      F\n",
       "8      F\n",
       "9      M\n",
       "Name: Gender, dtype: object"
      ]
     },
     "execution_count": 42,
     "metadata": {},
     "output_type": "execute_result"
    }
   ],
   "source": [
    "df1['Gender']"
   ]
  },
  {
   "cell_type": "code",
   "execution_count": null,
   "id": "d1fd6d87",
   "metadata": {},
   "outputs": [],
   "source": []
  },
  {
   "cell_type": "markdown",
   "id": "779ddfff",
   "metadata": {},
   "source": [
    "### Handling Duplicated:"
   ]
  },
  {
   "cell_type": "code",
   "execution_count": 54,
   "id": "3df9b2e7",
   "metadata": {},
   "outputs": [
    {
     "data": {
      "text/html": [
       "<div>\n",
       "<style scoped>\n",
       "    .dataframe tbody tr th:only-of-type {\n",
       "        vertical-align: middle;\n",
       "    }\n",
       "\n",
       "    .dataframe tbody tr th {\n",
       "        vertical-align: top;\n",
       "    }\n",
       "\n",
       "    .dataframe thead th {\n",
       "        text-align: right;\n",
       "    }\n",
       "</style>\n",
       "<table border=\"1\" class=\"dataframe\">\n",
       "  <thead>\n",
       "    <tr style=\"text-align: right;\">\n",
       "      <th></th>\n",
       "      <th>Name</th>\n",
       "      <th>Age</th>\n",
       "      <th>Dept</th>\n",
       "      <th>Gender</th>\n",
       "    </tr>\n",
       "  </thead>\n",
       "  <tbody>\n",
       "    <tr>\n",
       "      <th>0</th>\n",
       "      <td>Aman</td>\n",
       "      <td>32.000000</td>\n",
       "      <td>IT</td>\n",
       "      <td>M</td>\n",
       "    </tr>\n",
       "    <tr>\n",
       "      <th>1</th>\n",
       "      <td>Vipin</td>\n",
       "      <td>30.000000</td>\n",
       "      <td>IT</td>\n",
       "      <td>M</td>\n",
       "    </tr>\n",
       "    <tr>\n",
       "      <th>2</th>\n",
       "      <td>Arpit</td>\n",
       "      <td>34.000000</td>\n",
       "      <td>FIN</td>\n",
       "      <td>M</td>\n",
       "    </tr>\n",
       "    <tr>\n",
       "      <th>3</th>\n",
       "      <td>Vidya</td>\n",
       "      <td>35.000000</td>\n",
       "      <td>INV</td>\n",
       "      <td>M</td>\n",
       "    </tr>\n",
       "    <tr>\n",
       "      <th>4</th>\n",
       "      <td>Priya</td>\n",
       "      <td>28.000000</td>\n",
       "      <td>LOG</td>\n",
       "      <td>F</td>\n",
       "    </tr>\n",
       "    <tr>\n",
       "      <th>5</th>\n",
       "      <td>Ankit</td>\n",
       "      <td>39.000000</td>\n",
       "      <td>IT</td>\n",
       "      <td>F</td>\n",
       "    </tr>\n",
       "    <tr>\n",
       "      <th>6</th>\n",
       "      <td>Arpit</td>\n",
       "      <td>34.000000</td>\n",
       "      <td>FIN</td>\n",
       "      <td>M</td>\n",
       "    </tr>\n",
       "    <tr>\n",
       "      <th>7</th>\n",
       "      <td>Sneha</td>\n",
       "      <td>31.888889</td>\n",
       "      <td>HR</td>\n",
       "      <td>F</td>\n",
       "    </tr>\n",
       "    <tr>\n",
       "      <th>8</th>\n",
       "      <td>Priya</td>\n",
       "      <td>28.000000</td>\n",
       "      <td>LOG</td>\n",
       "      <td>F</td>\n",
       "    </tr>\n",
       "    <tr>\n",
       "      <th>9</th>\n",
       "      <td>Hitesh</td>\n",
       "      <td>27.000000</td>\n",
       "      <td>IT</td>\n",
       "      <td>M</td>\n",
       "    </tr>\n",
       "  </tbody>\n",
       "</table>\n",
       "</div>"
      ],
      "text/plain": [
       "     Name        Age Dept Gender\n",
       "0    Aman  32.000000   IT      M\n",
       "1   Vipin  30.000000   IT      M\n",
       "2   Arpit  34.000000  FIN      M\n",
       "3   Vidya  35.000000  INV      M\n",
       "4   Priya  28.000000  LOG      F\n",
       "5   Ankit  39.000000   IT      F\n",
       "6   Arpit  34.000000  FIN      M\n",
       "7   Sneha  31.888889   HR      F\n",
       "8   Priya  28.000000  LOG      F\n",
       "9  Hitesh  27.000000   IT      M"
      ]
     },
     "execution_count": 54,
     "metadata": {},
     "output_type": "execute_result"
    }
   ],
   "source": [
    "df"
   ]
  },
  {
   "cell_type": "code",
   "execution_count": 55,
   "id": "a4c2d567",
   "metadata": {},
   "outputs": [
    {
     "data": {
      "text/plain": [
       "2"
      ]
     },
     "execution_count": 55,
     "metadata": {},
     "output_type": "execute_result"
    }
   ],
   "source": [
    "df.duplicated().sum()"
   ]
  },
  {
   "cell_type": "code",
   "execution_count": 56,
   "id": "fc2dd5db",
   "metadata": {},
   "outputs": [
    {
     "data": {
      "text/plain": [
       "(10, 4)"
      ]
     },
     "execution_count": 56,
     "metadata": {},
     "output_type": "execute_result"
    }
   ],
   "source": [
    "df.shape"
   ]
  },
  {
   "cell_type": "markdown",
   "id": "517eda3a",
   "metadata": {},
   "source": [
    "### How to remove duplicates"
   ]
  },
  {
   "cell_type": "code",
   "execution_count": 60,
   "id": "b8b7a5e0",
   "metadata": {},
   "outputs": [],
   "source": [
    "df.drop_duplicates(inplace= True)"
   ]
  },
  {
   "cell_type": "code",
   "execution_count": 61,
   "id": "010719a9",
   "metadata": {},
   "outputs": [
    {
     "data": {
      "text/html": [
       "<div>\n",
       "<style scoped>\n",
       "    .dataframe tbody tr th:only-of-type {\n",
       "        vertical-align: middle;\n",
       "    }\n",
       "\n",
       "    .dataframe tbody tr th {\n",
       "        vertical-align: top;\n",
       "    }\n",
       "\n",
       "    .dataframe thead th {\n",
       "        text-align: right;\n",
       "    }\n",
       "</style>\n",
       "<table border=\"1\" class=\"dataframe\">\n",
       "  <thead>\n",
       "    <tr style=\"text-align: right;\">\n",
       "      <th></th>\n",
       "      <th>Name</th>\n",
       "      <th>Age</th>\n",
       "      <th>Dept</th>\n",
       "      <th>Gender</th>\n",
       "    </tr>\n",
       "  </thead>\n",
       "  <tbody>\n",
       "    <tr>\n",
       "      <th>0</th>\n",
       "      <td>Aman</td>\n",
       "      <td>32.000000</td>\n",
       "      <td>IT</td>\n",
       "      <td>M</td>\n",
       "    </tr>\n",
       "    <tr>\n",
       "      <th>1</th>\n",
       "      <td>Vipin</td>\n",
       "      <td>30.000000</td>\n",
       "      <td>IT</td>\n",
       "      <td>M</td>\n",
       "    </tr>\n",
       "    <tr>\n",
       "      <th>2</th>\n",
       "      <td>Arpit</td>\n",
       "      <td>34.000000</td>\n",
       "      <td>FIN</td>\n",
       "      <td>M</td>\n",
       "    </tr>\n",
       "    <tr>\n",
       "      <th>3</th>\n",
       "      <td>Vidya</td>\n",
       "      <td>35.000000</td>\n",
       "      <td>INV</td>\n",
       "      <td>M</td>\n",
       "    </tr>\n",
       "    <tr>\n",
       "      <th>4</th>\n",
       "      <td>Priya</td>\n",
       "      <td>28.000000</td>\n",
       "      <td>LOG</td>\n",
       "      <td>F</td>\n",
       "    </tr>\n",
       "    <tr>\n",
       "      <th>5</th>\n",
       "      <td>Ankit</td>\n",
       "      <td>39.000000</td>\n",
       "      <td>IT</td>\n",
       "      <td>F</td>\n",
       "    </tr>\n",
       "    <tr>\n",
       "      <th>7</th>\n",
       "      <td>Sneha</td>\n",
       "      <td>31.888889</td>\n",
       "      <td>HR</td>\n",
       "      <td>F</td>\n",
       "    </tr>\n",
       "    <tr>\n",
       "      <th>9</th>\n",
       "      <td>Hitesh</td>\n",
       "      <td>27.000000</td>\n",
       "      <td>IT</td>\n",
       "      <td>M</td>\n",
       "    </tr>\n",
       "  </tbody>\n",
       "</table>\n",
       "</div>"
      ],
      "text/plain": [
       "     Name        Age Dept Gender\n",
       "0    Aman  32.000000   IT      M\n",
       "1   Vipin  30.000000   IT      M\n",
       "2   Arpit  34.000000  FIN      M\n",
       "3   Vidya  35.000000  INV      M\n",
       "4   Priya  28.000000  LOG      F\n",
       "5   Ankit  39.000000   IT      F\n",
       "7   Sneha  31.888889   HR      F\n",
       "9  Hitesh  27.000000   IT      M"
      ]
     },
     "execution_count": 61,
     "metadata": {},
     "output_type": "execute_result"
    }
   ],
   "source": [
    "df"
   ]
  },
  {
   "cell_type": "code",
   "execution_count": 62,
   "id": "0d78cce4",
   "metadata": {},
   "outputs": [
    {
     "data": {
      "text/plain": [
       "(8, 4)"
      ]
     },
     "execution_count": 62,
     "metadata": {},
     "output_type": "execute_result"
    }
   ],
   "source": [
    "df.shape"
   ]
  },
  {
   "cell_type": "code",
   "execution_count": null,
   "id": "536b5720",
   "metadata": {},
   "outputs": [],
   "source": []
  }
 ],
 "metadata": {
  "kernelspec": {
   "display_name": "Python 3 (ipykernel)",
   "language": "python",
   "name": "python3"
  },
  "language_info": {
   "codemirror_mode": {
    "name": "ipython",
    "version": 3
   },
   "file_extension": ".py",
   "mimetype": "text/x-python",
   "name": "python",
   "nbconvert_exporter": "python",
   "pygments_lexer": "ipython3",
   "version": "3.10.9"
  }
 },
 "nbformat": 4,
 "nbformat_minor": 5
}
