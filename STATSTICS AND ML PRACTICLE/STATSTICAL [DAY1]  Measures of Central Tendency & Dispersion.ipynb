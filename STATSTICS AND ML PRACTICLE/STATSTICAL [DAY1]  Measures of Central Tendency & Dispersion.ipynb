{
 "cells": [
  {
   "cell_type": "code",
   "execution_count": 3,
   "id": "f4ec8253",
   "metadata": {},
   "outputs": [],
   "source": [
    "# import relevent libraries\n",
    "import numpy as np\n",
    "import pandas as pd\n",
    "import statistics as stats"
   ]
  },
  {
   "cell_type": "code",
   "execution_count": 4,
   "id": "f5ea9c65",
   "metadata": {
    "scrolled": true
   },
   "outputs": [
    {
     "data": {
      "text/html": [
       "<div>\n",
       "<style scoped>\n",
       "    .dataframe tbody tr th:only-of-type {\n",
       "        vertical-align: middle;\n",
       "    }\n",
       "\n",
       "    .dataframe tbody tr th {\n",
       "        vertical-align: top;\n",
       "    }\n",
       "\n",
       "    .dataframe thead th {\n",
       "        text-align: right;\n",
       "    }\n",
       "</style>\n",
       "<table border=\"1\" class=\"dataframe\">\n",
       "  <thead>\n",
       "    <tr style=\"text-align: right;\">\n",
       "      <th></th>\n",
       "      <th>longitude</th>\n",
       "      <th>latitude</th>\n",
       "      <th>housing_median_age</th>\n",
       "      <th>total_rooms</th>\n",
       "      <th>total_bedrooms</th>\n",
       "      <th>population</th>\n",
       "      <th>households</th>\n",
       "      <th>median_income</th>\n",
       "      <th>median_house_value</th>\n",
       "    </tr>\n",
       "  </thead>\n",
       "  <tbody>\n",
       "    <tr>\n",
       "      <th>0</th>\n",
       "      <td>-122.05</td>\n",
       "      <td>37.37</td>\n",
       "      <td>27.0</td>\n",
       "      <td>3885.0</td>\n",
       "      <td>661.0</td>\n",
       "      <td>1537.0</td>\n",
       "      <td>606.0</td>\n",
       "      <td>6.6085</td>\n",
       "      <td>344700.0</td>\n",
       "    </tr>\n",
       "    <tr>\n",
       "      <th>1</th>\n",
       "      <td>-118.30</td>\n",
       "      <td>34.26</td>\n",
       "      <td>43.0</td>\n",
       "      <td>1510.0</td>\n",
       "      <td>310.0</td>\n",
       "      <td>809.0</td>\n",
       "      <td>277.0</td>\n",
       "      <td>3.5990</td>\n",
       "      <td>176500.0</td>\n",
       "    </tr>\n",
       "    <tr>\n",
       "      <th>2</th>\n",
       "      <td>-117.81</td>\n",
       "      <td>33.78</td>\n",
       "      <td>27.0</td>\n",
       "      <td>3589.0</td>\n",
       "      <td>507.0</td>\n",
       "      <td>1484.0</td>\n",
       "      <td>495.0</td>\n",
       "      <td>5.7934</td>\n",
       "      <td>270500.0</td>\n",
       "    </tr>\n",
       "    <tr>\n",
       "      <th>3</th>\n",
       "      <td>-118.36</td>\n",
       "      <td>33.82</td>\n",
       "      <td>28.0</td>\n",
       "      <td>67.0</td>\n",
       "      <td>15.0</td>\n",
       "      <td>49.0</td>\n",
       "      <td>11.0</td>\n",
       "      <td>6.1359</td>\n",
       "      <td>330000.0</td>\n",
       "    </tr>\n",
       "    <tr>\n",
       "      <th>4</th>\n",
       "      <td>-119.67</td>\n",
       "      <td>36.33</td>\n",
       "      <td>19.0</td>\n",
       "      <td>1241.0</td>\n",
       "      <td>244.0</td>\n",
       "      <td>850.0</td>\n",
       "      <td>237.0</td>\n",
       "      <td>2.9375</td>\n",
       "      <td>81700.0</td>\n",
       "    </tr>\n",
       "  </tbody>\n",
       "</table>\n",
       "</div>"
      ],
      "text/plain": [
       "   longitude  latitude  housing_median_age  total_rooms  total_bedrooms  \\\n",
       "0    -122.05     37.37                27.0       3885.0           661.0   \n",
       "1    -118.30     34.26                43.0       1510.0           310.0   \n",
       "2    -117.81     33.78                27.0       3589.0           507.0   \n",
       "3    -118.36     33.82                28.0         67.0            15.0   \n",
       "4    -119.67     36.33                19.0       1241.0           244.0   \n",
       "\n",
       "   population  households  median_income  median_house_value  \n",
       "0      1537.0       606.0         6.6085            344700.0  \n",
       "1       809.0       277.0         3.5990            176500.0  \n",
       "2      1484.0       495.0         5.7934            270500.0  \n",
       "3        49.0        11.0         6.1359            330000.0  \n",
       "4       850.0       237.0         2.9375             81700.0  "
      ]
     },
     "execution_count": 4,
     "metadata": {},
     "output_type": "execute_result"
    }
   ],
   "source": [
    "# import Database\n",
    "df = pd.read_csv('california_housing_test.csv')\n",
    "df.head()"
   ]
  },
  {
   "cell_type": "markdown",
   "id": "0733c699",
   "metadata": {},
   "source": [
    "#  (1) CENTRAL TENDENCY:"
   ]
  },
  {
   "cell_type": "markdown",
   "id": "8da0cb0a",
   "metadata": {},
   "source": [
    "### MEAN, MEDIAN, AND MODE WIDELY USE MEASURES: "
   ]
  },
  {
   "cell_type": "markdown",
   "id": "8e724fe0",
   "metadata": {},
   "source": [
    "##  MEAN()\n"
   ]
  },
  {
   "cell_type": "code",
   "execution_count": 5,
   "id": "568d2857",
   "metadata": {},
   "outputs": [
    {
     "name": "stdout",
     "output_type": "stream",
     "text": [
      "Mean of Selected column is  28.845333333333333\n",
      "Mean of Selected column is  28.845333333333333\n"
     ]
    }
   ],
   "source": [
    "# mean of housing_median_age\n",
    "df_mean = df['housing_median_age'].mean\n",
    "\n",
    "print(\"Mean of Selected column is \",df_mean())\n",
    "\n",
    "# Onother ways:\n",
    "# with statistics library\n",
    "\n",
    "df_mean_1 = stats.mean(df['housing_median_age'])\n",
    "print(\"Mean of Selected column is \",df_mean_1)"
   ]
  },
  {
   "cell_type": "markdown",
   "id": "5145ee35",
   "metadata": {},
   "source": [
    "## Median()"
   ]
  },
  {
   "cell_type": "code",
   "execution_count": 6,
   "id": "40bc2ed7",
   "metadata": {},
   "outputs": [
    {
     "name": "stdout",
     "output_type": "stream",
     "text": [
      "median of selected column is  1155.0\n",
      "median of selected column is  1155.0\n"
     ]
    }
   ],
   "source": [
    "# with pandas library\n",
    "\n",
    "df_median = df['population'].median()\n",
    "print('median of selected column is ', df_median)\n",
    "\n",
    "# with Statstic library\n",
    "df_median_1 = stats.median(df['population'])\n",
    "print('median of selected column is ', df_median_1)"
   ]
  },
  {
   "cell_type": "markdown",
   "id": "85278b91",
   "metadata": {},
   "source": [
    "## mode()|"
   ]
  },
  {
   "cell_type": "code",
   "execution_count": 7,
   "id": "2af6802c",
   "metadata": {},
   "outputs": [
    {
     "name": "stdout",
     "output_type": "stream",
     "text": [
      "mode of selected column is  0    52.0\n",
      "Name: housing_median_age, dtype: float64\n",
      "mode of selected column is  52.0\n"
     ]
    }
   ],
   "source": [
    "df_mode = df['housing_median_age'].mode()\n",
    "\n",
    "print('mode of selected column is ', df_mode)\n",
    "\n",
    "\n",
    "# with statstics\n",
    "\n",
    "df_mode_1 = stats.mode(df['housing_median_age'])\n",
    "print('mode of selected column is ', df_mode_1)"
   ]
  },
  {
   "cell_type": "markdown",
   "id": "d06ff5dc",
   "metadata": {},
   "source": [
    "# (2) MEASURES OF DISPERSION"
   ]
  },
  {
   "cell_type": "markdown",
   "id": "ed31f31c",
   "metadata": {},
   "source": [
    "##  standerd deviation"
   ]
  },
  {
   "cell_type": "code",
   "execution_count": 8,
   "id": "8bf2d8fe",
   "metadata": {},
   "outputs": [
    {
     "name": "stdout",
     "output_type": "stream",
     "text": [
      "the standerd deviation is  12.555395554955755\n",
      "the standerd deviation is  12.555395554955753\n"
     ]
    }
   ],
   "source": [
    "# with using a pandas library\n",
    "df_std = df['housing_median_age'].std()\n",
    "print('the standerd deviation is ', df_std)\n",
    "\n",
    "# with using a statstics library\n",
    "\n",
    "df_std_1 = stats.stdev(df['housing_median_age'])\n",
    "print('the standerd deviation is ', df_std_1)"
   ]
  },
  {
   "cell_type": "markdown",
   "id": "819b5075",
   "metadata": {},
   "source": [
    "\n",
    "## Variance "
   ]
  },
  {
   "cell_type": "code",
   "execution_count": 9,
   "id": "4d3c285f",
   "metadata": {},
   "outputs": [
    {
     "name": "stdout",
     "output_type": "stream",
     "text": [
      "the variance is  157.63795754140273\n",
      "the variance is 157.6379575414027\n"
     ]
    }
   ],
   "source": [
    "# with pandas library\n",
    "df_variance = df['housing_median_age'].var()\n",
    "print('the variance is ', df_variance)\n",
    "\n",
    "# using stastics library\n",
    "\n",
    "df_variance_1 = stats.variance(df['housing_median_age'])\n",
    "print('the variance is' , df_variance_1)"
   ]
  },
  {
   "cell_type": "markdown",
   "id": "e1661f69",
   "metadata": {},
   "source": [
    "## Quartiles:\n"
   ]
  },
  {
   "cell_type": "code",
   "execution_count": 13,
   "id": "03bbf46f",
   "metadata": {},
   "outputs": [
    {
     "name": "stdout",
     "output_type": "stream",
     "text": [
      "[ 1. 18. 29. 37. 52.]\n"
     ]
    }
   ],
   "source": [
    "# with numpy library:\n",
    "\n",
    "df_cols = df['housing_median_age']\n",
    "df_quartile = np.quantile(df_cols,[ 0,0.25,0.50,0.75,1])\n",
    "print(df_quartile)"
   ]
  },
  {
   "cell_type": "code",
   "execution_count": 21,
   "id": "c3663336",
   "metadata": {},
   "outputs": [
    {
     "name": "stdout",
     "output_type": "stream",
     "text": [
      "20.0\n"
     ]
    }
   ],
   "source": [
    "# in the percent value:\n",
    "percentile = 29\n",
    "df_quarntile_60 = np.percentile(df_cols,percentile)\n",
    "print(df_quarntile_60)"
   ]
  },
  {
   "cell_type": "markdown",
   "id": "8bd205c2",
   "metadata": {},
   "source": [
    "##  range()"
   ]
  },
  {
   "cell_type": "code",
   "execution_count": 1,
   "id": "31c313bd",
   "metadata": {},
   "outputs": [
    {
     "ename": "NameError",
     "evalue": "name 'df' is not defined",
     "output_type": "error",
     "traceback": [
      "\u001b[1;31m---------------------------------------------------------------------------\u001b[0m",
      "\u001b[1;31mNameError\u001b[0m                                 Traceback (most recent call last)",
      "Cell \u001b[1;32mIn[1], line 1\u001b[0m\n\u001b[1;32m----> 1\u001b[0m df_range \u001b[38;5;241m=\u001b[39m \u001b[43mdf\u001b[49m[\u001b[38;5;124m'\u001b[39m\u001b[38;5;124mhousing_median_age\u001b[39m\u001b[38;5;124m'\u001b[39m]\u001b[38;5;241m.\u001b[39mmax() \u001b[38;5;241m-\u001b[39m df[\u001b[38;5;124m'\u001b[39m\u001b[38;5;124mhousing_median_age\u001b[39m\u001b[38;5;124m'\u001b[39m]\u001b[38;5;241m.\u001b[39mmin()\n\u001b[0;32m      2\u001b[0m \u001b[38;5;28mprint\u001b[39m(\u001b[38;5;124m\"\u001b[39m\u001b[38;5;124mthe range is\u001b[39m\u001b[38;5;124m\"\u001b[39m, df_range)\n",
      "\u001b[1;31mNameError\u001b[0m: name 'df' is not defined"
     ]
    }
   ],
   "source": [
    "df_range = df['housing_median_age'].max() - df['housing_median_age'].min()\n",
    "print(\"the range is\", df_range)"
   ]
  },
  {
   "cell_type": "code",
   "execution_count": 27,
   "id": "3bfb2c09",
   "metadata": {},
   "outputs": [
    {
     "name": "stdout",
     "output_type": "stream",
     "text": [
      "TNTER QUANTILE RANGE IS :  19.0\n"
     ]
    }
   ],
   "source": [
    "df_cols = df['housing_median_age']\n",
    "\n",
    "df_25_iqr = np.percentile(df_cols, 25)\n",
    "df_75_iqr = np.percentile(df_cols, 75)\n",
    "\n",
    "IQR = (df_75_iqr - df_25_iqr)\n",
    "print('TNTER QUANTILE RANGE IS : ', IQR)"
   ]
  },
  {
   "cell_type": "code",
   "execution_count": null,
   "id": "2e2bf828",
   "metadata": {},
   "outputs": [],
   "source": []
  }
 ],
 "metadata": {
  "kernelspec": {
   "display_name": "Python 3 (ipykernel)",
   "language": "python",
   "name": "python3"
  },
  "language_info": {
   "codemirror_mode": {
    "name": "ipython",
    "version": 3
   },
   "file_extension": ".py",
   "mimetype": "text/x-python",
   "name": "python",
   "nbconvert_exporter": "python",
   "pygments_lexer": "ipython3",
   "version": "3.10.9"
  }
 },
 "nbformat": 4,
 "nbformat_minor": 5
}
