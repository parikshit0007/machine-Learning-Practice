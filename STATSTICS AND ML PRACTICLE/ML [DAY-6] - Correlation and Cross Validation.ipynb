{
 "cells": [
  {
   "cell_type": "code",
   "execution_count": 1,
   "id": "207ab22b",
   "metadata": {},
   "outputs": [],
   "source": [
    "import pandas as pd\n",
    "import numpy as np"
   ]
  },
  {
   "cell_type": "markdown",
   "id": "94efb8d0",
   "metadata": {},
   "source": [
    "### Correlation"
   ]
  },
  {
   "cell_type": "code",
   "execution_count": 5,
   "id": "db92c637",
   "metadata": {},
   "outputs": [
    {
     "name": "stdout",
     "output_type": "stream",
     "text": [
      "6 6\n",
      "<class 'list'> <class 'list'>\n"
     ]
    }
   ],
   "source": [
    "a = [17,21,23,28,42,46]\n",
    "b = [3,6,7,11,19,22]\n",
    "print(len(a),len(b))\n",
    "print(type(a),type(b))\n",
    "\n",
    "  "
   ]
  },
  {
   "cell_type": "code",
   "execution_count": 6,
   "id": "15f078d7",
   "metadata": {},
   "outputs": [
    {
     "name": "stdout",
     "output_type": "stream",
     "text": [
      "[[1.         0.99884808]\n",
      " [0.99884808 1.        ]]\n"
     ]
    }
   ],
   "source": [
    "corr = np.corrcoef(a,b)\n",
    "print(corr)"
   ]
  },
  {
   "cell_type": "markdown",
   "id": "00322336",
   "metadata": {},
   "source": [
    "### Let's Implementation With Functions:\n"
   ]
  },
  {
   "cell_type": "code",
   "execution_count": 11,
   "id": "7aa6fc96",
   "metadata": {},
   "outputs": [],
   "source": [
    "def corr_fun(x,y):\n",
    "    xm,ym = np.mean(x), np.mean(y)\n",
    "    s = 0\n",
    "    for i in range(len(x)):\n",
    "        s += (x[i] - xm) * (y[i] - ym)\n",
    "    r1 = [(i - xm)**2 for i in x]\n",
    "    r2 = [(i - ym)**2 for i in y]\n",
    "    \n",
    "    denominator =  np.sqrt(sum(r1)*(sum(r2)))\n",
    "    corr_xy = s/denominator\n",
    "    print(corr_xy)"
   ]
  },
  {
   "cell_type": "code",
   "execution_count": 12,
   "id": "4de115fd",
   "metadata": {},
   "outputs": [
    {
     "name": "stdout",
     "output_type": "stream",
     "text": [
      "1.0\n",
      "0.9988480839622035\n",
      "0.9988480839622035\n",
      "1.0\n"
     ]
    }
   ],
   "source": [
    "corr_fun(a,a)\n",
    "corr_fun(a,b)\n",
    "corr_fun(b,a)\n",
    "corr_fun(b,b)"
   ]
  },
  {
   "cell_type": "markdown",
   "id": "0f6c58c4",
   "metadata": {},
   "source": [
    "###  Cross Validation:\n",
    "1) it is a resampling teqhniques used to a splite the data into training and test data"
   ]
  },
  {
   "cell_type": "markdown",
   "id": "9c1e1660",
   "metadata": {},
   "source": [
    "### K - Fold Cross validation:\n"
   ]
  },
  {
   "cell_type": "code",
   "execution_count": 14,
   "id": "4db52e76",
   "metadata": {},
   "outputs": [],
   "source": [
    "from sklearn.model_selection import KFold"
   ]
  },
  {
   "cell_type": "code",
   "execution_count": 19,
   "id": "3e61b096",
   "metadata": {},
   "outputs": [
    {
     "name": "stdout",
     "output_type": "stream",
     "text": [
      "Train Data:  ['c' 'd' 'e' 'f'] Test Data:  ['a' 'b']\n",
      "Train Data:  ['a' 'b' 'e' 'f'] Test Data:  ['c' 'd']\n",
      "Train Data:  ['a' 'b' 'c' 'd'] Test Data:  ['e' 'f']\n"
     ]
    }
   ],
   "source": [
    "x = np.array(['a','b','c','d','e','f'])\n",
    "kf = KFold(n_splits = 3) #the data will be splite in 3 groups\n",
    "\n",
    "for train, test in kf.split(x):\n",
    "    print('Train Data: ', x[train], 'Test Data: ', x[test])"
   ]
  },
  {
   "cell_type": "code",
   "execution_count": 20,
   "id": "ac0df2f6",
   "metadata": {},
   "outputs": [
    {
     "name": "stdout",
     "output_type": "stream",
     "text": [
      "Train Data:  ['c' 'd' 'e' 'f'] Test Data:  ['a' 'b']\n",
      "Train Data:  ['a' 'b' 'e' 'f'] Test Data:  ['c' 'd']\n",
      "Train Data:  ['a' 'b' 'c' 'd' 'f'] Test Data:  ['e']\n",
      "Train Data:  ['a' 'b' 'c' 'd' 'e'] Test Data:  ['f']\n"
     ]
    }
   ],
   "source": [
    "x = np.array(['a','b','c','d','e','f'])\n",
    "kf = KFold(n_splits = 4) #the data will be splite in 3 groups\n",
    "\n",
    "for train, test in kf.split(x):\n",
    "    print('Train Data: ', x[train], 'Test Data: ', x[test])"
   ]
  },
  {
   "cell_type": "code",
   "execution_count": 22,
   "id": "d90e8efc",
   "metadata": {},
   "outputs": [
    {
     "name": "stdout",
     "output_type": "stream",
     "text": [
      "Train Data:  ['d' 'e' 'f' 'g' 'i' 'j' 'k' 'l'] Test Data:  ['a' 'b' 'c']\n",
      "Train Data:  ['a' 'b' 'c' 'f' 'g' 'i' 'j' 'k' 'l'] Test Data:  ['d' 'e']\n",
      "Train Data:  ['a' 'b' 'c' 'd' 'e' 'i' 'j' 'k' 'l'] Test Data:  ['f' 'g']\n",
      "Train Data:  ['a' 'b' 'c' 'd' 'e' 'f' 'g' 'k' 'l'] Test Data:  ['i' 'j']\n",
      "Train Data:  ['a' 'b' 'c' 'd' 'e' 'f' 'g' 'i' 'j'] Test Data:  ['k' 'l']\n"
     ]
    }
   ],
   "source": [
    " x = np.array(['a','b','c','d','e','f','g','i','j','k','l'])\n",
    "kf = KFold(n_splits = 5) #the data will be splite in 3 groups\n",
    "\n",
    "for train, test in kf.split(x):\n",
    "    print('Train Data: ', x[train], 'Test Data: ', x[test])"
   ]
  },
  {
   "cell_type": "code",
   "execution_count": null,
   "id": "980d7770",
   "metadata": {},
   "outputs": [],
   "source": []
  }
 ],
 "metadata": {
  "kernelspec": {
   "display_name": "Python 3 (ipykernel)",
   "language": "python",
   "name": "python3"
  },
  "language_info": {
   "codemirror_mode": {
    "name": "ipython",
    "version": 3
   },
   "file_extension": ".py",
   "mimetype": "text/x-python",
   "name": "python",
   "nbconvert_exporter": "python",
   "pygments_lexer": "ipython3",
   "version": "3.10.9"
  }
 },
 "nbformat": 4,
 "nbformat_minor": 5
}
