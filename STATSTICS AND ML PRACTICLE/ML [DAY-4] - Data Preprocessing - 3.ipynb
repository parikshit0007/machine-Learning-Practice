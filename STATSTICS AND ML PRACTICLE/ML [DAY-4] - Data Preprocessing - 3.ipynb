{
 "cells": [
  {
   "cell_type": "markdown",
   "id": "5fe6294f",
   "metadata": {},
   "source": [
    "###  Feature Scaling and Standerdization Method\n",
    "1) StandardScaler\n",
    "\n",
    "2) MinMaxScaler\n",
    "\n",
    "Example: \n",
    "\n",
    "Age vs income Age income (14-90) varaible No of 2 digits (2-3) digit"
   ]
  },
  {
   "cell_type": "code",
   "execution_count": 1,
   "id": "f55bfb0a",
   "metadata": {},
   "outputs": [],
   "source": [
    "import numpy as np\n",
    "import pandas as pd\n",
    "import matplotlib.pyplot as plt"
   ]
  },
  {
   "cell_type": "code",
   "execution_count": 6,
   "id": "84e1e057",
   "metadata": {},
   "outputs": [
    {
     "name": "stdout",
     "output_type": "stream",
     "text": [
      "<class 'dict'>\n",
      "{'Age': [18, 23, 45, 56, 67, 39], 'Income': [950, 2300, 35000, 54000, 700000, 4800]}\n"
     ]
    },
    {
     "data": {
      "text/html": [
       "<div>\n",
       "<style scoped>\n",
       "    .dataframe tbody tr th:only-of-type {\n",
       "        vertical-align: middle;\n",
       "    }\n",
       "\n",
       "    .dataframe tbody tr th {\n",
       "        vertical-align: top;\n",
       "    }\n",
       "\n",
       "    .dataframe thead th {\n",
       "        text-align: right;\n",
       "    }\n",
       "</style>\n",
       "<table border=\"1\" class=\"dataframe\">\n",
       "  <thead>\n",
       "    <tr style=\"text-align: right;\">\n",
       "      <th></th>\n",
       "      <th>Age</th>\n",
       "      <th>Income</th>\n",
       "    </tr>\n",
       "  </thead>\n",
       "  <tbody>\n",
       "    <tr>\n",
       "      <th>0</th>\n",
       "      <td>18</td>\n",
       "      <td>950</td>\n",
       "    </tr>\n",
       "    <tr>\n",
       "      <th>1</th>\n",
       "      <td>23</td>\n",
       "      <td>2300</td>\n",
       "    </tr>\n",
       "    <tr>\n",
       "      <th>2</th>\n",
       "      <td>45</td>\n",
       "      <td>35000</td>\n",
       "    </tr>\n",
       "    <tr>\n",
       "      <th>3</th>\n",
       "      <td>56</td>\n",
       "      <td>54000</td>\n",
       "    </tr>\n",
       "    <tr>\n",
       "      <th>4</th>\n",
       "      <td>67</td>\n",
       "      <td>700000</td>\n",
       "    </tr>\n",
       "    <tr>\n",
       "      <th>5</th>\n",
       "      <td>39</td>\n",
       "      <td>4800</td>\n",
       "    </tr>\n",
       "  </tbody>\n",
       "</table>\n",
       "</div>"
      ],
      "text/plain": [
       "   Age  Income\n",
       "0   18     950\n",
       "1   23    2300\n",
       "2   45   35000\n",
       "3   56   54000\n",
       "4   67  700000\n",
       "5   39    4800"
      ]
     },
     "execution_count": 6,
     "metadata": {},
     "output_type": "execute_result"
    }
   ],
   "source": [
    "d = {'Age' : [18,23,45,56,67,39],\n",
    "    'Income': [950,2300,35000,54000,700000,4800]}\n",
    "print(type(d))\n",
    "print(d)\n",
    "df = pd.DataFrame(d)\n",
    "df"
   ]
  },
  {
   "cell_type": "markdown",
   "id": "01c33987",
   "metadata": {},
   "source": [
    "###  1)StandardScaler:\n",
    "z = (x-u)/stdev\n",
    "\n",
    "=> its grenerate a numpy array\n"
   ]
  },
  {
   "cell_type": "code",
   "execution_count": 14,
   "id": "f11736f8",
   "metadata": {},
   "outputs": [
    {
     "data": {
      "text/html": [
       "<div>\n",
       "<style scoped>\n",
       "    .dataframe tbody tr th:only-of-type {\n",
       "        vertical-align: middle;\n",
       "    }\n",
       "\n",
       "    .dataframe tbody tr th {\n",
       "        vertical-align: top;\n",
       "    }\n",
       "\n",
       "    .dataframe thead th {\n",
       "        text-align: right;\n",
       "    }\n",
       "</style>\n",
       "<table border=\"1\" class=\"dataframe\">\n",
       "  <thead>\n",
       "    <tr style=\"text-align: right;\">\n",
       "      <th></th>\n",
       "      <th>Age</th>\n",
       "      <th>Income</th>\n",
       "    </tr>\n",
       "  </thead>\n",
       "  <tbody>\n",
       "    <tr>\n",
       "      <th>0</th>\n",
       "      <td>18</td>\n",
       "      <td>950</td>\n",
       "    </tr>\n",
       "    <tr>\n",
       "      <th>1</th>\n",
       "      <td>23</td>\n",
       "      <td>2300</td>\n",
       "    </tr>\n",
       "    <tr>\n",
       "      <th>2</th>\n",
       "      <td>45</td>\n",
       "      <td>35000</td>\n",
       "    </tr>\n",
       "    <tr>\n",
       "      <th>3</th>\n",
       "      <td>56</td>\n",
       "      <td>54000</td>\n",
       "    </tr>\n",
       "    <tr>\n",
       "      <th>4</th>\n",
       "      <td>67</td>\n",
       "      <td>700000</td>\n",
       "    </tr>\n",
       "    <tr>\n",
       "      <th>5</th>\n",
       "      <td>39</td>\n",
       "      <td>4800</td>\n",
       "    </tr>\n",
       "  </tbody>\n",
       "</table>\n",
       "</div>"
      ],
      "text/plain": [
       "   Age  Income\n",
       "0   18     950\n",
       "1   23    2300\n",
       "2   45   35000\n",
       "3   56   54000\n",
       "4   67  700000\n",
       "5   39    4800"
      ]
     },
     "execution_count": 14,
     "metadata": {},
     "output_type": "execute_result"
    }
   ],
   "source": [
    "df1 = df.copy()\n",
    "df1.head(6)"
   ]
  },
  {
   "cell_type": "code",
   "execution_count": 15,
   "id": "11718fa2",
   "metadata": {},
   "outputs": [],
   "source": [
    "from sklearn.preprocessing import StandardScaler"
   ]
  },
  {
   "cell_type": "code",
   "execution_count": 16,
   "id": "d0499186",
   "metadata": {},
   "outputs": [],
   "source": [
    "sc = StandardScaler()"
   ]
  },
  {
   "cell_type": "code",
   "execution_count": 17,
   "id": "c12655da",
   "metadata": {},
   "outputs": [
    {
     "name": "stdout",
     "output_type": "stream",
     "text": [
      "[[-1.35724179 -0.51846036]\n",
      " [-1.06640426 -0.51315357]\n",
      " [ 0.21328085 -0.3846113 ]\n",
      " [ 0.85312341 -0.30992314]\n",
      " [ 1.49296596  2.22947456]\n",
      " [-0.13572418 -0.50332618]]\n",
      "<class 'numpy.ndarray'>\n"
     ]
    }
   ],
   "source": [
    "df1_std = sc.fit_transform(df1)\n",
    "print(df1_std)\n",
    "print(type(df1_std))"
   ]
  },
  {
   "cell_type": "code",
   "execution_count": 18,
   "id": "089d4301",
   "metadata": {},
   "outputs": [
    {
     "data": {
      "text/html": [
       "<div>\n",
       "<style scoped>\n",
       "    .dataframe tbody tr th:only-of-type {\n",
       "        vertical-align: middle;\n",
       "    }\n",
       "\n",
       "    .dataframe tbody tr th {\n",
       "        vertical-align: top;\n",
       "    }\n",
       "\n",
       "    .dataframe thead th {\n",
       "        text-align: right;\n",
       "    }\n",
       "</style>\n",
       "<table border=\"1\" class=\"dataframe\">\n",
       "  <thead>\n",
       "    <tr style=\"text-align: right;\">\n",
       "      <th></th>\n",
       "      <th>Age</th>\n",
       "      <th>Income</th>\n",
       "    </tr>\n",
       "  </thead>\n",
       "  <tbody>\n",
       "    <tr>\n",
       "      <th>0</th>\n",
       "      <td>18</td>\n",
       "      <td>950</td>\n",
       "    </tr>\n",
       "    <tr>\n",
       "      <th>1</th>\n",
       "      <td>23</td>\n",
       "      <td>2300</td>\n",
       "    </tr>\n",
       "    <tr>\n",
       "      <th>2</th>\n",
       "      <td>45</td>\n",
       "      <td>35000</td>\n",
       "    </tr>\n",
       "    <tr>\n",
       "      <th>3</th>\n",
       "      <td>56</td>\n",
       "      <td>54000</td>\n",
       "    </tr>\n",
       "    <tr>\n",
       "      <th>4</th>\n",
       "      <td>67</td>\n",
       "      <td>700000</td>\n",
       "    </tr>\n",
       "    <tr>\n",
       "      <th>5</th>\n",
       "      <td>39</td>\n",
       "      <td>4800</td>\n",
       "    </tr>\n",
       "  </tbody>\n",
       "</table>\n",
       "</div>"
      ],
      "text/plain": [
       "   Age  Income\n",
       "0   18     950\n",
       "1   23    2300\n",
       "2   45   35000\n",
       "3   56   54000\n",
       "4   67  700000\n",
       "5   39    4800"
      ]
     },
     "execution_count": 18,
     "metadata": {},
     "output_type": "execute_result"
    }
   ],
   "source": [
    "df1.head(6)"
   ]
  },
  {
   "cell_type": "code",
   "execution_count": 19,
   "id": "cb788e96",
   "metadata": {},
   "outputs": [
    {
     "name": "stdout",
     "output_type": "stream",
     "text": [
      "-1.066404259703037\n"
     ]
    }
   ],
   "source": [
    "x23_std = (23 - df['Age'].mean()) / df['Age'].std(ddof = 0)\n",
    "print(x23_std)\n"
   ]
  },
  {
   "cell_type": "code",
   "execution_count": 21,
   "id": "df94edad",
   "metadata": {},
   "outputs": [
    {
     "name": "stdout",
     "output_type": "stream",
     "text": [
      "-0.3846113049246541\n"
     ]
    }
   ],
   "source": [
    "x35000_std = (35000 - df['Income'].mean()) / df['Income'].std(ddof = 0)\n",
    "print(x35000_std)"
   ]
  },
  {
   "cell_type": "markdown",
   "id": "f075980d",
   "metadata": {},
   "source": [
    "### 2) MinMaxScaler\n",
    "\n",
    "X_std = (X-X.min(axis=0)) / (X.max(axis = 0)) - X.min(axis = 0)\n",
    "\n",
    "X_scaled = X_std * (max-min) + min"
   ]
  },
  {
   "cell_type": "code",
   "execution_count": 22,
   "id": "a7faafd4",
   "metadata": {},
   "outputs": [],
   "source": [
    "from sklearn.preprocessing import MinMaxScaler"
   ]
  },
  {
   "cell_type": "code",
   "execution_count": 23,
   "id": "8758ae50",
   "metadata": {},
   "outputs": [
    {
     "name": "stdout",
     "output_type": "stream",
     "text": [
      "[[-1.35724179 -0.51846036]\n",
      " [-1.06640426 -0.51315357]\n",
      " [ 0.21328085 -0.3846113 ]\n",
      " [ 0.85312341 -0.30992314]\n",
      " [ 1.49296596  2.22947456]\n",
      " [-0.13572418 -0.50332618]]\n",
      "<class 'numpy.ndarray'>\n"
     ]
    }
   ],
   "source": [
    "mmsc = MinMaxScaler\n",
    "\n",
    "df1_std = sc.fit_transform(df1)\n",
    "print(df1_std)\n",
    "print(type(df1_std))"
   ]
  },
  {
   "cell_type": "code",
   "execution_count": null,
   "id": "032eca87",
   "metadata": {},
   "outputs": [],
   "source": []
  }
 ],
 "metadata": {
  "kernelspec": {
   "display_name": "Python 3 (ipykernel)",
   "language": "python",
   "name": "python3"
  },
  "language_info": {
   "codemirror_mode": {
    "name": "ipython",
    "version": 3
   },
   "file_extension": ".py",
   "mimetype": "text/x-python",
   "name": "python",
   "nbconvert_exporter": "python",
   "pygments_lexer": "ipython3",
   "version": "3.10.9"
  }
 },
 "nbformat": 4,
 "nbformat_minor": 5
}
