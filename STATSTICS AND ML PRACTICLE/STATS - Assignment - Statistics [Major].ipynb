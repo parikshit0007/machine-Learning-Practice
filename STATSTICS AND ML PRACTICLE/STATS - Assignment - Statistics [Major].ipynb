{
 "cells": [
  {
   "cell_type": "markdown",
   "id": "b8fece19",
   "metadata": {},
   "source": [
    "#### Q1)\n",
    "According to a study, the daily average time spent by a user on a social media website is 50 minutes. To test the claim of this study, Ramesh, a researcher, takes a sample of 25 website users and finds out that the mean time spent by the sample users is 60 minutes and the sample standard deviation is 30 minutes. Based on this information, the null and the alternative hypotheses will be:<br>\n",
    "<br>\n",
    "a. Ho = The average time spent by the users is 50 minutes<br>\n",
    "b. H1 = The average time spent by the users is not 50 minutes<br>\n",
    "Use a 5% significance level to test this hypothesis."
   ]
  },
  {
   "cell_type": "code",
   "execution_count": 1,
   "id": "4d2fedcf",
   "metadata": {},
   "outputs": [],
   "source": [
    "import numpy as np\n",
    "import pandas as pd\n",
    "import statistics as stats\n",
    "import math\n",
    "from scipy.stats import norm"
   ]
  },
  {
   "cell_type": "code",
   "execution_count": null,
   "id": "929a1f6e",
   "metadata": {
    "scrolled": true
   },
   "outputs": [],
   "source": []
  },
  {
   "cell_type": "code",
   "execution_count": 2,
   "id": "dc634ccb",
   "metadata": {},
   "outputs": [
    {
     "name": "stdout",
     "output_type": "stream",
     "text": [
      "Reject Null Hypothese\n"
     ]
    }
   ],
   "source": [
    "# t- test\n",
    "\n",
    "from scipy.stats import t\n",
    "\n",
    "population_mean = 50\n",
    "sample_size = 25\n",
    "sample_mean = 60\n",
    "sample_std = 30\n",
    "signiificant_level = 0.05\n",
    "\n",
    "t_test = (sample_mean - population_mean / sample_std / math.sqrt(sample_size))\n",
    "\n",
    "# p_value = 2 * (1- norm.cdf(abs(z_test)))\n",
    "\n",
    "degrees_of_freedom = sample_size - 1\n",
    "\n",
    "# Calculate the two-tailed p-value\n",
    "p_value = 2 * (1 - t.cdf(abs(t_test), df=degrees_of_freedom))\n",
    "\n",
    "if p_value<signiificant_level:\n",
    "    print('Reject Null Hypothese')\n",
    "else:\n",
    "    print('Accept Null Hypothese')\n"
   ]
  },
  {
   "cell_type": "code",
   "execution_count": null,
   "id": "c7d1a22e",
   "metadata": {},
   "outputs": [],
   "source": []
  },
  {
   "cell_type": "markdown",
   "id": "bad668ec",
   "metadata": {},
   "source": [
    "### Q2) \n",
    "Height of 7 students (in cm) is given below. What is the median?\n",
    "<br>\n",
    "168 170 169 160 162 164 162. \n"
   ]
  },
  {
   "cell_type": "code",
   "execution_count": 3,
   "id": "c1bde732",
   "metadata": {},
   "outputs": [
    {
     "name": "stdout",
     "output_type": "stream",
     "text": [
      "The Median is the method 1 is : 163.0\n",
      "The median is the method 2 is : 163.0\n"
     ]
    }
   ],
   "source": [
    "\n",
    "list_1 = [168,170,69,162,164,162]\n",
    "# using Numpy library.\n",
    "\n",
    "median_1 = np.median(list_1)\n",
    "print('The Median is the method 1 is :',median_1)\n",
    "\n",
    "# using Statstics Library \n",
    "median_2 = stats.median(list_1)\n",
    "\n",
    "print('The median is the method 2 is :',median_2)"
   ]
  },
  {
   "cell_type": "markdown",
   "id": "df2268fc",
   "metadata": {},
   "source": [
    "### Q3)\n",
    "Below are the observations of the marks of a student. Find the value of mode.<br>\n",
    "84 85 89 92 93 89 87 89 92"
   ]
  },
  {
   "cell_type": "code",
   "execution_count": 4,
   "id": "a6e19cd0",
   "metadata": {},
   "outputs": [],
   "source": [
    "student_marks = [84,85,89,92,93,89,87,89,92]"
   ]
  },
  {
   "cell_type": "code",
   "execution_count": 5,
   "id": "3ba8e521",
   "metadata": {},
   "outputs": [
    {
     "name": "stdout",
     "output_type": "stream",
     "text": [
      "the mode is:  89\n"
     ]
    }
   ],
   "source": [
    "# using Statstics library\n",
    "\n",
    "mode_1 = stats.mode(student_marks)\n",
    "print(\"the mode is: \",mode_1)"
   ]
  },
  {
   "attachments": {},
   "cell_type": "markdown",
   "id": "7efe93b3",
   "metadata": {},
   "source": [
    "### Q4)\n",
    "From the table given below, what is the mean of marks obtained by 20 students?<br>\n",
    "<br>\n",
    "marks = [3, 4, 5, 6, 7, 8, 9, 10]<br>\n",
    "frequencies = [1, 2, 2, 4, 5, 3, 2, 1]"
   ]
  },
  {
   "cell_type": "code",
   "execution_count": 6,
   "id": "6033649f",
   "metadata": {},
   "outputs": [
    {
     "name": "stdout",
     "output_type": "stream",
     "text": [
      "Mean of marks: 6.60\n"
     ]
    }
   ],
   "source": [
    "# Create lists for marks and frequencies\n",
    "marks = [3, 4, 5, 6, 7, 8, 9, 10]\n",
    "frequencies = [1, 2, 2, 4, 5, 3, 2, 1]\n",
    "\n",
    "# Create a list with the repeated marks\n",
    "data = [marks[i] for i in range(len(marks)) for _ in range(frequencies[i])]\n",
    "\n",
    "# Calculate the mean\n",
    "mean = stats.mean(data)\n",
    "\n",
    "# Print the mean\n",
    "print(\"Mean of marks: {:.2f}\".format(mean))\n"
   ]
  },
  {
   "cell_type": "markdown",
   "id": "b2476f75",
   "metadata": {},
   "source": [
    "### Q5)\n",
    "For a certain type of computer, the length of time between charges of the battery is normally distributed with a mean of 50 hours and a standard deviation of 15 hours. John owns one of these computers and wants to know the probability that the length of time will be between 50 and 70 hours.<br>\n"
   ]
  },
  {
   "cell_type": "code",
   "execution_count": 7,
   "id": "e68d71b1",
   "metadata": {},
   "outputs": [
    {
     "name": "stdout",
     "output_type": "stream",
     "text": [
      "Zscore is is : 1.3333333333333333\n",
      "z2 is : 0.0\n",
      "Cumulative distribution function (CDF) of z1 is : 0.9087887802741321\n",
      "Cumulative distribution function (CDF) of z2 is : 0.5\n",
      "Probability that the length of time is between 50 and 70 hours: 40.88%\n"
     ]
    }
   ],
   "source": [
    "mean = 50\n",
    "standerd_deviation = 15\n",
    "\n",
    "z1 = (70 - mean)/standerd_deviation\n",
    "z2 = (50 - mean)/standerd_deviation\n",
    "\n",
    "print('Zscore is is :', z1 )\n",
    "print('z2 is :', z2 )\n",
    "\n",
    "p1 = norm.cdf(z1)\n",
    "p2 = norm.cdf(z2)\n",
    "\n",
    "print('Cumulative distribution function (CDF) of z1 is :' ,p1)\n",
    "print('Cumulative distribution function (CDF) of z2 is :' ,p2)\n",
    "\n",
    "probability = norm.cdf(z1) - norm.cdf(z2)\n",
    "print(\"Probability that the length of time is between 50 and 70 hours: {:.2%}\".format(probability))"
   ]
  },
  {
   "cell_type": "markdown",
   "id": "40327e6a",
   "metadata": {},
   "source": [
    "### Q6)\n",
    "Find the range of the following.<br>\n",
    "g = [10, 23, 12, 21, 14, 17, 16, 11, 15, 19]\n"
   ]
  },
  {
   "cell_type": "code",
   "execution_count": 8,
   "id": "f568bcd4",
   "metadata": {},
   "outputs": [
    {
     "name": "stdout",
     "output_type": "stream",
     "text": [
      "Find the range of the following. \n",
      "g = [10, 23, 12, 21, 14, 17, 16, 11, 15, 19]\n",
      "\n",
      "\n",
      "Range = Maximum value - Minimum Value\n",
      "\n",
      "The Maximum Value is : 23\n",
      "The Maximum Value is : 10\n",
      "Range = 23 - 10 =  13\n"
     ]
    }
   ],
   "source": [
    "# RANGE = MAXIMUM VALUE - MINIMUM VALUE \n",
    "g = [10,23,12,21,14,17,16,11,15,19]\n",
    "print('''Find the range of the following. \n",
    "g = [10, 23, 12, 21, 14, 17, 16, 11, 15, 19]\\n''')\n",
    "\n",
    "print(f'\\nRange = Maximum value - Minimum Value\\n')\n",
    "\n",
    "maximum_value = max(g)\n",
    "print('The Maximum Value is :', maximum_value)\n",
    "minimum_value = min(g)\n",
    "print('The Maximum Value is :', minimum_value)\n",
    "\n",
    "Range = maximum_value - minimum_value\n",
    "\n",
    "print(f'Range = {maximum_value} - { minimum_value} = ', Range)"
   ]
  },
  {
   "cell_type": "markdown",
   "id": "e960ac8d",
   "metadata": {},
   "source": [
    "### Q7)\n",
    "It is estimated that 50% of emails are spam emails. Some software has been applied to filter these spam emails before they reach your inbox. A certain brand of software claims that it can detect 99% of spam emails, and the probability of a false positive (a non-spam email detected as spam) is 5%. Now if an email is detected as spam, then what is the probability that it is in fact a non-spam email?"
   ]
  },
  {
   "cell_type": "code",
   "execution_count": 9,
   "id": "082b6742",
   "metadata": {},
   "outputs": [
    {
     "name": "stdout",
     "output_type": "stream",
     "text": [
      "the probability that email is detected as spam is in fact a non-spam email is :  0.05\n"
     ]
    }
   ],
   "source": [
    "\n",
    "# A1 = Email is spam email\n",
    "# A2 = Software detected email is spam\n",
    "\n",
    "p_spam = 0.5\n",
    "p_non_spam = 0.5 # (1 - p_spam)\n",
    "\n",
    "p_spam_detection = 0.99\n",
    "p_false_posiitive = 0.05\n",
    "\n",
    "p_non_spam_detected_spam = (p_false_posiitive*p_non_spam)/((p_false_posiitive*p_non_spam) + p_spam_detection * p_spam)\n",
    "\n",
    "print('the probability that email is detected as spam is in fact a non-spam email is : ', round(p_non_spam_detected_spam,2))"
   ]
  },
  {
   "cell_type": "code",
   "execution_count": 10,
   "id": "7f0b3ad9",
   "metadata": {},
   "outputs": [
    {
     "name": "stdout",
     "output_type": "stream",
     "text": [
      "Probability that an email is ham given that it's detected as spam: 0.05\n"
     ]
    }
   ],
   "source": [
    "# Define the probabilities\n",
    "P_S = 0.50  # Probability that an email is spam\n",
    "P_H = 1 - P_S  # Probability that an email is ham\n",
    "P_D_given_S = 0.99  # Probability that the software detects spam correctly\n",
    "P_D_given_H = 0.05  # Probability of a false positive (software detects ham as spam)\n",
    "\n",
    "# Calculate the total probability of an email being detected as spam\n",
    "P_D = (P_D_given_S * P_S) + (P_D_given_H * P_H)\n",
    "\n",
    "# Calculate the probability that an email is ham given that it's detected as spam\n",
    "P_H_given_D = (P_D_given_H * P_H) / P_D\n",
    "\n",
    "# Print the result\n",
    "print(\"Probability that an email is ham given that it's detected as spam: {:.2f}\".format(P_H_given_D))\n"
   ]
  },
  {
   "cell_type": "markdown",
   "id": "fcc2ba1f",
   "metadata": {},
   "source": [
    "### Q8)\n",
    "Given the following distribution of returns, determine the lower quartile:\n",
    "<br>{10 25 12 21 19 17 16 11 15 19}"
   ]
  },
  {
   "cell_type": "code",
   "execution_count": 11,
   "id": "4cb89f25",
   "metadata": {},
   "outputs": [
    {
     "name": "stdout",
     "output_type": "stream",
     "text": [
      "The Lower Quartile is :  12.75\n"
     ]
    }
   ],
   "source": [
    "a = [10 ,25 ,12 ,21, 19, 17, 16, 11, 15, 19]\n",
    "# using numpy library\n",
    "lower_quartile = np.percentile(a,25)\n",
    "print('The Lower Quartile is : ',lower_quartile)"
   ]
  },
  {
   "cell_type": "markdown",
   "id": "60f5b219",
   "metadata": {},
   "source": [
    "### Q9)\n",
    "For a Binomial distribution, the number of trials(n) is 25, and the probability of success is 0.3. What’s the variability of the distribution?"
   ]
  },
  {
   "cell_type": "code",
   "execution_count": 12,
   "id": "befd0ae2",
   "metadata": {},
   "outputs": [
    {
     "name": "stdout",
     "output_type": "stream",
     "text": [
      "Variance : 5.25\n",
      "Standard Deviation (σ): 2.29128784747792\n"
     ]
    }
   ],
   "source": [
    "n = 25  # Number of trials\n",
    "p = 0.3  # Probability of success\n",
    "\n",
    "# Calculate the probability of failure\n",
    "q = 1 - p\n",
    "variance = (n*p*q)\n",
    "print(\"Variance :\", variance)\n",
    "\n",
    "# Calculate the standard deviation\n",
    "std_dev = math.sqrt(n * p * q)\n",
    "\n",
    "print(\"Standard Deviation (σ):\", std_dev)\n"
   ]
  },
  {
   "cell_type": "markdown",
   "id": "5a499627",
   "metadata": {},
   "source": [
    "### Q.10\n",
    "Download the datavase and perform the below-mentioned operations on the dataset:-<br>\n",
    "\n",
    "● Checking datatypes of each column in the dataset.<br>\n",
    "\n",
    "● Find the Mean of the Signal strength column using the Pandas and Statistics library.<br>\n",
    "\n",
    "● Find the Median of Customer Service column using Pandas and Statistics library.<br>\n",
    "\n",
    "● Find the Mode of Signal strength column using Pandas and Statistics library.<br>\n",
    "\n",
    "● Find the Standard deviation of the Customer Service column using Pandas and Statistics library.<br>\n",
    "\n",
    "● Find the Variance of Customer Service column using Pandas and Statistics library.<br>\n",
    "\n",
    "● Calculate Percentiles of Value for the Dollar column using NumPy.<br>\n",
    "\n",
    "● Calculate the Range of Value for the Dollar column using Pandas.<br>\n",
    "\n",
    "● Calculate IQR of Value for the Dollar column using Pandas. <br>\n",
    "\n",
    "● Hypothesis Testing - Using the data in the Cell Phone Survey dataset, apply ANOVA to determine if the mean response for Value for dollar is the same for different types of cell phones.<br>"
   ]
  },
  {
   "cell_type": "code",
   "execution_count": 13,
   "id": "83fe3444",
   "metadata": {},
   "outputs": [
    {
     "data": {
      "text/html": [
       "<div>\n",
       "<style scoped>\n",
       "    .dataframe tbody tr th:only-of-type {\n",
       "        vertical-align: middle;\n",
       "    }\n",
       "\n",
       "    .dataframe tbody tr th {\n",
       "        vertical-align: top;\n",
       "    }\n",
       "\n",
       "    .dataframe thead th {\n",
       "        text-align: right;\n",
       "    }\n",
       "</style>\n",
       "<table border=\"1\" class=\"dataframe\">\n",
       "  <thead>\n",
       "    <tr style=\"text-align: right;\">\n",
       "      <th></th>\n",
       "      <th>Gender</th>\n",
       "      <th>Carrier</th>\n",
       "      <th>Type</th>\n",
       "      <th>Usage</th>\n",
       "      <th>Signal strength</th>\n",
       "      <th>Value for the Dollar</th>\n",
       "      <th>Customer Service</th>\n",
       "    </tr>\n",
       "  </thead>\n",
       "  <tbody>\n",
       "    <tr>\n",
       "      <th>0</th>\n",
       "      <td>M</td>\n",
       "      <td>AT&amp;T</td>\n",
       "      <td>Smart</td>\n",
       "      <td>High</td>\n",
       "      <td>5</td>\n",
       "      <td>4</td>\n",
       "      <td>4</td>\n",
       "    </tr>\n",
       "    <tr>\n",
       "      <th>1</th>\n",
       "      <td>M</td>\n",
       "      <td>AT&amp;T</td>\n",
       "      <td>Smart</td>\n",
       "      <td>High</td>\n",
       "      <td>5</td>\n",
       "      <td>4</td>\n",
       "      <td>2</td>\n",
       "    </tr>\n",
       "    <tr>\n",
       "      <th>2</th>\n",
       "      <td>M</td>\n",
       "      <td>AT&amp;T</td>\n",
       "      <td>Smart</td>\n",
       "      <td>Average</td>\n",
       "      <td>4</td>\n",
       "      <td>4</td>\n",
       "      <td>4</td>\n",
       "    </tr>\n",
       "    <tr>\n",
       "      <th>3</th>\n",
       "      <td>M</td>\n",
       "      <td>AT&amp;T</td>\n",
       "      <td>Smart</td>\n",
       "      <td>Very high</td>\n",
       "      <td>2</td>\n",
       "      <td>3</td>\n",
       "      <td>3</td>\n",
       "    </tr>\n",
       "    <tr>\n",
       "      <th>4</th>\n",
       "      <td>M</td>\n",
       "      <td>AT&amp;T</td>\n",
       "      <td>Smart</td>\n",
       "      <td>Very high</td>\n",
       "      <td>5</td>\n",
       "      <td>5</td>\n",
       "      <td>2</td>\n",
       "    </tr>\n",
       "  </tbody>\n",
       "</table>\n",
       "</div>"
      ],
      "text/plain": [
       "  Gender Carrier   Type      Usage  Signal strength  Value for the Dollar  \\\n",
       "0      M    AT&T  Smart       High                5                     4   \n",
       "1      M    AT&T  Smart       High                5                     4   \n",
       "2      M    AT&T  Smart    Average                4                     4   \n",
       "3      M    AT&T  Smart  Very high                2                     3   \n",
       "4      M    AT&T  Smart  Very high                5                     5   \n",
       "\n",
       "   Customer Service  \n",
       "0                 4  \n",
       "1                 2  \n",
       "2                 4  \n",
       "3                 3  \n",
       "4                 2  "
      ]
     },
     "execution_count": 13,
     "metadata": {},
     "output_type": "execute_result"
    }
   ],
   "source": [
    "# Using pandas , numpy , statistics library\n",
    "# Import Database:\n",
    "\n",
    "df = pd.read_csv('Cell Phone Survey (1).csv')\n",
    "df.head()\n"
   ]
  },
  {
   "cell_type": "code",
   "execution_count": 14,
   "id": "1e50b042",
   "metadata": {},
   "outputs": [
    {
     "name": "stdout",
     "output_type": "stream",
     "text": [
      "Gender                  object\n",
      "Carrier                 object\n",
      "Type                    object\n",
      "Usage                   object\n",
      "Signal strength          int64\n",
      "Value for the Dollar     int64\n",
      "Customer Service         int64\n",
      "dtype: object\n"
     ]
    }
   ],
   "source": [
    "# ● Checking datatypes of each column in the dataset.\n",
    "\n",
    "print(df.dtypes) #-> this df.dtypes print all datatypes of coloumn\n"
   ]
  },
  {
   "cell_type": "code",
   "execution_count": 15,
   "id": "7530d2b2",
   "metadata": {},
   "outputs": [
    {
     "name": "stdout",
     "output_type": "stream",
     "text": [
      "Using pandas library the Mean of the Signal strength is :   3.31\n",
      "Using Statistics library the Mean of the Signal strength is :   3.31\n"
     ]
    }
   ],
   "source": [
    "# ● Find the Mean of the Signal strength column using the Pandas and Statistics library.\n",
    "\n",
    "# using pandas library\n",
    "\n",
    "mean_1 = df['Signal strength'].mean()\n",
    "print(\"Using pandas library the Mean of the Signal strength is :  \", round(mean_1,2))\n",
    "\n",
    "# using pandas Statstics library\n",
    "\n",
    "mean_2 = stats.mean(df['Signal strength'])\n",
    "print(\"Using Statistics library the Mean of the Signal strength is :  \", round(mean_2,2))"
   ]
  },
  {
   "cell_type": "code",
   "execution_count": 16,
   "id": "80171462",
   "metadata": {},
   "outputs": [
    {
     "name": "stdout",
     "output_type": "stream",
     "text": [
      "The Median of Customer Service column using Pandas library is:  3.0\n",
      "The Median of Customer Service column using Statistics library is:  3.0\n"
     ]
    }
   ],
   "source": [
    "# Find the Median of Customer Service column using Pandas and Statistics library.\n",
    "\n",
    "# using pandas library\n",
    "median_1 = df['Customer Service'].median()\n",
    "print('The Median of Customer Service column using Pandas library is: ' , round(median_1,2))\n",
    "\n",
    "# using Statistics library\n",
    "median_2 = stats.median(df['Customer Service'])\n",
    "print('The Median of Customer Service column using Statistics library is: ' , round(median_2,2))"
   ]
  },
  {
   "cell_type": "code",
   "execution_count": 17,
   "id": "21869684",
   "metadata": {},
   "outputs": [
    {
     "name": "stdout",
     "output_type": "stream",
     "text": [
      "The Mode of Signal strength column using Pandas library is :  0    3\n",
      "Name: Signal strength, dtype: int64\n",
      "The Mode of Signal strength column using Statistics library is :  3\n"
     ]
    }
   ],
   "source": [
    "# Find the Mode of Signal strength column using Pandas and Statistics library.\n",
    "\n",
    "# using pandas library\n",
    "mode_1 = df['Signal strength'].mode()\n",
    "print('The Mode of Signal strength column using Pandas library is : ',mode_1)\n",
    "\n",
    "# using Statistics library\n",
    "mode_2 = stats.mode(df['Signal strength'])\n",
    "print('The Mode of Signal strength column using Statistics library is : ',mode_2)"
   ]
  },
  {
   "cell_type": "code",
   "execution_count": 18,
   "id": "e3c51359",
   "metadata": {},
   "outputs": [
    {
     "name": "stdout",
     "output_type": "stream",
     "text": [
      "The Standard deviation of the Customer Service column using Pandas library is :  0.96\n",
      "The Standard deviation of the Customer Service column using Statistics library is :  0.96\n"
     ]
    }
   ],
   "source": [
    "# ● Find the Standard deviation of the Customer Service column using Pandas and Statistics library.\n",
    "\n",
    "# using pandas library\n",
    "\n",
    "std_dev_1 = df['Customer Service'].std()\n",
    "print('The Standard deviation of the Customer Service column using Pandas library is : ',round(std_dev_1,2))\n",
    "\n",
    "# using Statistics library\n",
    "std_dev_2 = stats.stdev(df['Customer Service'])\n",
    "print('The Standard deviation of the Customer Service column using Statistics library is : ',round(std_dev_2,2))"
   ]
  },
  {
   "cell_type": "code",
   "execution_count": 19,
   "id": "7d64b705",
   "metadata": {},
   "outputs": [
    {
     "name": "stdout",
     "output_type": "stream",
     "text": [
      "The Variance of the Customer Service column using Pandas library is :  0.93\n",
      "The Variance of the Customer Service column using Statistics library is :  0.93\n"
     ]
    }
   ],
   "source": [
    "# Find the Variance of Customer Service column using Pandas and Statistics library.\n",
    "\n",
    "# using pandas library\n",
    "\n",
    "variance_1 = df['Customer Service'].var()\n",
    "print('The Variance of the Customer Service column using Pandas library is : ',round(variance_1,2))\n",
    "\n",
    "variance_2 = stats.variance(df['Customer Service'])\n",
    "print('The Variance of the Customer Service column using Statistics library is : ',round(variance_2,2))"
   ]
  },
  {
   "cell_type": "code",
   "execution_count": 20,
   "id": "34fa7c87",
   "metadata": {},
   "outputs": [
    {
     "name": "stdout",
     "output_type": "stream",
     "text": [
      "Percentiles of Value for Dollar:\n",
      "[1. 3. 3. 4.]\n"
     ]
    }
   ],
   "source": [
    "# Calculate Percentiles of Value for the Dollar column using NumPy.\n",
    "\n",
    "# using numpy library\n",
    "\n",
    "dollar_percentiles = np.percentile(df[\"Value for the Dollar\"], [0, 25, 50, 75])\n",
    "print(\"Percentiles of Value for Dollar:\")\n",
    "print(dollar_percentiles)"
   ]
  },
  {
   "cell_type": "code",
   "execution_count": 21,
   "id": "3858b17a",
   "metadata": {},
   "outputs": [
    {
     "name": "stdout",
     "output_type": "stream",
     "text": [
      "Range of Value for Dollar: 4\n"
     ]
    }
   ],
   "source": [
    "# Calculate the Range of Value for the Dollar column using Pandas.\n",
    "value_for_dollar_range = df[\"Value for the Dollar\"].max() - df[\"Value for the Dollar\"].min()\n",
    "print(\"Range of Value for Dollar:\", value_for_dollar_range)"
   ]
  },
  {
   "cell_type": "code",
   "execution_count": 22,
   "id": "d828536d",
   "metadata": {},
   "outputs": [
    {
     "name": "stdout",
     "output_type": "stream",
     "text": [
      "IQR of Value for Dollar: 1.0\n"
     ]
    }
   ],
   "source": [
    "#  Calculate IQR of Value for the Dollar column using Pandas.\n",
    "Q1 = df[\"Value for the Dollar\"].quantile(0.25)\n",
    "Q3 = df[\"Value for the Dollar\"].quantile(0.75)\n",
    "IQR = Q3 - Q1\n",
    "\n",
    "print(\"IQR of Value for Dollar:\", IQR)"
   ]
  },
  {
   "cell_type": "code",
   "execution_count": 25,
   "id": "a239806e",
   "metadata": {},
   "outputs": [
    {
     "name": "stdout",
     "output_type": "stream",
     "text": [
      "Fail to reject the null hypothesis: Means are equal\n"
     ]
    }
   ],
   "source": [
    "#  Hypothesis Testing - Using the data in the Cell Phone Survey dataset, apply ANOVA to determine if the mean response for Value for dollar is the same for different types of cell phones.\n",
    "\n",
    "import pandas as pd\n",
    "from scipy.stats import f_oneway\n",
    "\n",
    "# Group the data by \"Type\"\n",
    "groups = [df[df[\"Type\"] == cell_type][\"Value for the Dollar\"] for cell_type in df[\"Type\"].unique()]\n",
    "\n",
    "# Perform the ANOVA test\n",
    "f_statistic, p_value = f_oneway(*groups)\n",
    "\n",
    "# Set the significance level\n",
    "alpha = 0.05\n",
    "\n",
    "# Check the p-value against the significance level\n",
    "if p_value < alpha:\n",
    "    print(\"Reject the null hypothesis: Means are not equal\")\n",
    "else:\n",
    "    print(\"Fail to reject the null hypothesis: Means are equal\")\n",
    "\n"
   ]
  },
  {
   "cell_type": "code",
   "execution_count": null,
   "id": "c9061f65",
   "metadata": {},
   "outputs": [],
   "source": []
  },
  {
   "cell_type": "code",
   "execution_count": null,
   "id": "f6cccff9",
   "metadata": {},
   "outputs": [],
   "source": []
  },
  {
   "cell_type": "code",
   "execution_count": null,
   "id": "92920da7",
   "metadata": {},
   "outputs": [],
   "source": []
  }
 ],
 "metadata": {
  "kernelspec": {
   "display_name": "Python 3 (ipykernel)",
   "language": "python",
   "name": "python3"
  },
  "language_info": {
   "codemirror_mode": {
    "name": "ipython",
    "version": 3
   },
   "file_extension": ".py",
   "mimetype": "text/x-python",
   "name": "python",
   "nbconvert_exporter": "python",
   "pygments_lexer": "ipython3",
   "version": "3.10.9"
  }
 },
 "nbformat": 4,
 "nbformat_minor": 5
}
