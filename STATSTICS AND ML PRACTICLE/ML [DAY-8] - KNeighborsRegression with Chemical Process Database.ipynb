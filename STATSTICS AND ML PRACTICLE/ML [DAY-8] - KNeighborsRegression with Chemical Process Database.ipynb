{
 "cells": [
  {
   "cell_type": "markdown",
   "id": "69eff69f",
   "metadata": {},
   "source": [
    "### KNN Regression\n",
    "\n",
    "1) KNN Stands for K Nearest Neighbors<br>\n",
    "2) KNN algorithm can be used for Regression as well as Classification<br>\n",
    "3) <b>KNN Intuition </b> The KNN algorithm assumes that similar things exist in close proximity. In other words, similar things are near to each other.<br>\n",
    "4) KNN Regression works by finding the distances between a query(test data) and all the examples in the data(train data), selecting the specified number of examples (K) closest to the query. Then for the K closest data points it takes average of values for the target variables which is the predicion value."
   ]
  },
  {
   "cell_type": "markdown",
   "id": "efd91097",
   "metadata": {},
   "source": [
    "### KNN Algorithm \n",
    "\n",
    "1) Load the data<br>\n",
    "2) Initialize K to your chosen number of neighbors.<br>\n",
    "3) For getting the predicted class, iterate from 1 to total number of training data points<br> \n",
    "\n",
    "a) Calculate the distance between test data and each row of training data. Use Euclidean distance as our distance metric since it’s the most popular method. The other metrics that can be used are Manhattan, etc.<br>\n",
    "b) Sort the calculated distances in ascending order based on distance values<br>\n",
    "c) Get top K rows from the sorted array<br>\n",
    "d) Get the average of target variable for these K rows<br>\n",
    "e) Return the computed average as the predicted continuous value<br>\n"
   ]
  },
  {
   "cell_type": "markdown",
   "id": "63d5e935",
   "metadata": {},
   "source": [
    "#### Distance Metrics\n",
    "\n",
    "1) <b>Eculidean Distance</b><br>\n",
    "$ d((x1,y1)(x2,y2)) =  ((x_{2} - x_{1})^{2} + (y_{2} - y_{1})^{2})^{(1/2)} $\n",
    "\n",
    "2) <b>Manhattan Distance</b><br>\n",
    "$ d((x1,y1)(x2,y2)) =  |x_{2} - x_{1}| + |y_{2} - y_{1}| $\n",
    "\n",
    "3) <b>Minkowski Distance</b><br>\n",
    "$ d((x1,y1)(x2,y2)) =  ((|x_{2} - x_{1}|)^{p} + (|y_{2} - y_{1}|)^{p})^{(1/p)} $\n",
    "where p is an integer\n",
    "\n",
    "where<br>\n",
    "(x1,y1) - coordinates fo the first data point<br>\n",
    "(x2,y2) - coordinates of the second data point\n",
    "\n",
    "#### Note\n",
    "a) For p=2, Minkowski’s Distance equals Euclidean’s Distance <br>\n",
    "b) For p=1, Minkowski’s Distance equals Manhattan Distance "
   ]
  },
  {
   "cell_type": "code",
   "execution_count": 1,
   "id": "d38c8c98",
   "metadata": {},
   "outputs": [],
   "source": [
    "import pandas as pd\n",
    "import numpy as np\n",
    "import matplotlib.pyplot as plt"
   ]
  },
  {
   "cell_type": "code",
   "execution_count": 2,
   "id": "00ccc98d",
   "metadata": {},
   "outputs": [
    {
     "name": "stdout",
     "output_type": "stream",
     "text": [
      "{'height': [5, 5.11, 5.6, 5.9, 4.8, 5.8, 5.3, 5.8, 5.5, 5.6], 'age': [45, 26, 30, 34, 40, 36, 19, 28, 23, 32], 'weight': [77, 47, 55, 59, 72, 60, 40, 60, 45, 58]}\n",
      "<class 'dict'>\n"
     ]
    }
   ],
   "source": [
    "data = {'height' : [5,5.11,5.6,5.9,4.8,5.8,5.3,5.8,5.5,5.6],\n",
    "       'age' : [45,26,30,34,40,36,19,28,23,32],\n",
    "       'weight' : [77,47,55,59,72,60,40,60,45,58]\n",
    "       }\n",
    "print(data)\n",
    "print(type(data))"
   ]
  },
  {
   "cell_type": "code",
   "execution_count": 3,
   "id": "9ba6957d",
   "metadata": {},
   "outputs": [],
   "source": [
    "df = pd.DataFrame(data)"
   ]
  },
  {
   "cell_type": "code",
   "execution_count": 4,
   "id": "84331904",
   "metadata": {},
   "outputs": [
    {
     "data": {
      "text/html": [
       "<div>\n",
       "<style scoped>\n",
       "    .dataframe tbody tr th:only-of-type {\n",
       "        vertical-align: middle;\n",
       "    }\n",
       "\n",
       "    .dataframe tbody tr th {\n",
       "        vertical-align: top;\n",
       "    }\n",
       "\n",
       "    .dataframe thead th {\n",
       "        text-align: right;\n",
       "    }\n",
       "</style>\n",
       "<table border=\"1\" class=\"dataframe\">\n",
       "  <thead>\n",
       "    <tr style=\"text-align: right;\">\n",
       "      <th></th>\n",
       "      <th>height</th>\n",
       "      <th>age</th>\n",
       "      <th>weight</th>\n",
       "    </tr>\n",
       "  </thead>\n",
       "  <tbody>\n",
       "    <tr>\n",
       "      <th>0</th>\n",
       "      <td>5.00</td>\n",
       "      <td>45</td>\n",
       "      <td>77</td>\n",
       "    </tr>\n",
       "    <tr>\n",
       "      <th>1</th>\n",
       "      <td>5.11</td>\n",
       "      <td>26</td>\n",
       "      <td>47</td>\n",
       "    </tr>\n",
       "    <tr>\n",
       "      <th>2</th>\n",
       "      <td>5.60</td>\n",
       "      <td>30</td>\n",
       "      <td>55</td>\n",
       "    </tr>\n",
       "    <tr>\n",
       "      <th>3</th>\n",
       "      <td>5.90</td>\n",
       "      <td>34</td>\n",
       "      <td>59</td>\n",
       "    </tr>\n",
       "    <tr>\n",
       "      <th>4</th>\n",
       "      <td>4.80</td>\n",
       "      <td>40</td>\n",
       "      <td>72</td>\n",
       "    </tr>\n",
       "    <tr>\n",
       "      <th>5</th>\n",
       "      <td>5.80</td>\n",
       "      <td>36</td>\n",
       "      <td>60</td>\n",
       "    </tr>\n",
       "    <tr>\n",
       "      <th>6</th>\n",
       "      <td>5.30</td>\n",
       "      <td>19</td>\n",
       "      <td>40</td>\n",
       "    </tr>\n",
       "    <tr>\n",
       "      <th>7</th>\n",
       "      <td>5.80</td>\n",
       "      <td>28</td>\n",
       "      <td>60</td>\n",
       "    </tr>\n",
       "    <tr>\n",
       "      <th>8</th>\n",
       "      <td>5.50</td>\n",
       "      <td>23</td>\n",
       "      <td>45</td>\n",
       "    </tr>\n",
       "    <tr>\n",
       "      <th>9</th>\n",
       "      <td>5.60</td>\n",
       "      <td>32</td>\n",
       "      <td>58</td>\n",
       "    </tr>\n",
       "  </tbody>\n",
       "</table>\n",
       "</div>"
      ],
      "text/plain": [
       "   height  age  weight\n",
       "0    5.00   45      77\n",
       "1    5.11   26      47\n",
       "2    5.60   30      55\n",
       "3    5.90   34      59\n",
       "4    4.80   40      72\n",
       "5    5.80   36      60\n",
       "6    5.30   19      40\n",
       "7    5.80   28      60\n",
       "8    5.50   23      45\n",
       "9    5.60   32      58"
      ]
     },
     "execution_count": 4,
     "metadata": {},
     "output_type": "execute_result"
    }
   ],
   "source": [
    "df"
   ]
  },
  {
   "cell_type": "code",
   "execution_count": 5,
   "id": "d7b92e07",
   "metadata": {},
   "outputs": [
    {
     "data": {
      "text/plain": [
       "(10, 3)"
      ]
     },
     "execution_count": 5,
     "metadata": {},
     "output_type": "execute_result"
    }
   ],
   "source": [
    "df.shape"
   ]
  },
  {
   "cell_type": "code",
   "execution_count": 6,
   "id": "f0b07b9c",
   "metadata": {},
   "outputs": [
    {
     "data": {
      "text/html": [
       "<div>\n",
       "<style scoped>\n",
       "    .dataframe tbody tr th:only-of-type {\n",
       "        vertical-align: middle;\n",
       "    }\n",
       "\n",
       "    .dataframe tbody tr th {\n",
       "        vertical-align: top;\n",
       "    }\n",
       "\n",
       "    .dataframe thead th {\n",
       "        text-align: right;\n",
       "    }\n",
       "</style>\n",
       "<table border=\"1\" class=\"dataframe\">\n",
       "  <thead>\n",
       "    <tr style=\"text-align: right;\">\n",
       "      <th></th>\n",
       "      <th>height</th>\n",
       "      <th>age</th>\n",
       "      <th>weight</th>\n",
       "    </tr>\n",
       "  </thead>\n",
       "  <tbody>\n",
       "    <tr>\n",
       "      <th>0</th>\n",
       "      <td>False</td>\n",
       "      <td>False</td>\n",
       "      <td>False</td>\n",
       "    </tr>\n",
       "    <tr>\n",
       "      <th>1</th>\n",
       "      <td>False</td>\n",
       "      <td>False</td>\n",
       "      <td>False</td>\n",
       "    </tr>\n",
       "    <tr>\n",
       "      <th>2</th>\n",
       "      <td>False</td>\n",
       "      <td>False</td>\n",
       "      <td>False</td>\n",
       "    </tr>\n",
       "    <tr>\n",
       "      <th>3</th>\n",
       "      <td>False</td>\n",
       "      <td>False</td>\n",
       "      <td>False</td>\n",
       "    </tr>\n",
       "    <tr>\n",
       "      <th>4</th>\n",
       "      <td>False</td>\n",
       "      <td>False</td>\n",
       "      <td>False</td>\n",
       "    </tr>\n",
       "    <tr>\n",
       "      <th>5</th>\n",
       "      <td>False</td>\n",
       "      <td>False</td>\n",
       "      <td>False</td>\n",
       "    </tr>\n",
       "    <tr>\n",
       "      <th>6</th>\n",
       "      <td>False</td>\n",
       "      <td>False</td>\n",
       "      <td>False</td>\n",
       "    </tr>\n",
       "    <tr>\n",
       "      <th>7</th>\n",
       "      <td>False</td>\n",
       "      <td>False</td>\n",
       "      <td>False</td>\n",
       "    </tr>\n",
       "    <tr>\n",
       "      <th>8</th>\n",
       "      <td>False</td>\n",
       "      <td>False</td>\n",
       "      <td>False</td>\n",
       "    </tr>\n",
       "    <tr>\n",
       "      <th>9</th>\n",
       "      <td>False</td>\n",
       "      <td>False</td>\n",
       "      <td>False</td>\n",
       "    </tr>\n",
       "  </tbody>\n",
       "</table>\n",
       "</div>"
      ],
      "text/plain": [
       "   height    age  weight\n",
       "0   False  False   False\n",
       "1   False  False   False\n",
       "2   False  False   False\n",
       "3   False  False   False\n",
       "4   False  False   False\n",
       "5   False  False   False\n",
       "6   False  False   False\n",
       "7   False  False   False\n",
       "8   False  False   False\n",
       "9   False  False   False"
      ]
     },
     "execution_count": 6,
     "metadata": {},
     "output_type": "execute_result"
    }
   ],
   "source": [
    "df.isnull()"
   ]
  },
  {
   "cell_type": "code",
   "execution_count": 11,
   "id": "5e6e1349",
   "metadata": {},
   "outputs": [
    {
     "data": {
      "image/png": "[encoded data removed]",
      "text/plain": [
       "<Figure size 600x400 with 1 Axes>"
      ]
     },
     "metadata": {},
     "output_type": "display_data"
    }
   ],
   "source": [
    "labels = df.index       #labels = [0,1,2,3,4,5..]\n",
    "plt.figure(figsize = (6,4))\n",
    "plt.scatter(df['age'], df['height'])\n",
    "plt.title('Age vs Height')\n",
    "plt.xlabel('Age')\n",
    "plt.ylabel('Height')\n",
    "plt.ylim(3,7)\n",
    "for i, x, y in zip(labels, df['age'], df['height']):\n",
    "    plt.annotate(text = str(i), xy=(x-0.3, y+0.12))\n",
    "\n",
    "plt.show()"
   ]
  },
  {
   "cell_type": "markdown",
   "id": "f9d93c43",
   "metadata": {},
   "source": [
    "#### Q.: Predict The Weight, given the following"
   ]
  },
  {
   "cell_type": "code",
   "execution_count": null,
   "id": "261e954d",
   "metadata": {},
   "outputs": [],
   "source": []
  }
 ],
 "metadata": {
  "kernelspec": {
   "display_name": "Python 3 (ipykernel)",
   "language": "python",
   "name": "python3"
  },
  "language_info": {
   "codemirror_mode": {
    "name": "ipython",
    "version": 3
   },
   "file_extension": ".py",
   "mimetype": "text/x-python",
   "name": "python",
   "nbconvert_exporter": "python",
   "pygments_lexer": "ipython3",
   "version": "3.10.9"
  }
 },
 "nbformat": 4,
 "nbformat_minor": 5
}
