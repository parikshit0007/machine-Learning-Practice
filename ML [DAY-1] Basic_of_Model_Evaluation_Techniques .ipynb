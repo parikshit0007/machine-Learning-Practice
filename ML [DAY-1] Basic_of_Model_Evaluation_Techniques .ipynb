{
 "cells": [
  {
   "cell_type": "code",
   "execution_count": 1,
   "id": "bb5da056",
   "metadata": {},
   "outputs": [],
   "source": [
    "# X: Age, Gender, BMI, Blood Glucose Level, Skin Thikcness, Body weight,Past Medical History\n",
    "# y: Diabetic(0) And Non-diabteic(1)\n",
    "# Binary Classification Problem\n"
   ]
  },
  {
   "cell_type": "code",
   "execution_count": 2,
   "id": "59432cd0",
   "metadata": {},
   "outputs": [
    {
     "name": "stdout",
     "output_type": "stream",
     "text": [
      "14 14\n"
     ]
    }
   ],
   "source": [
    "# 0 - Positive(True) , 1- Negative(Falase)\n",
    "\n",
    "y_true = [1,0,0,1,1,1,0,0,0,0,0,1,0,1]\n",
    "y_pred = [0,0,1,1,0,1,0,0,0,0,1,0,1,0]\n",
    "print(len(y_true),len(y_pred))"
   ]
  },
  {
   "cell_type": "code",
   "execution_count": 3,
   "id": "14569410",
   "metadata": {},
   "outputs": [],
   "source": [
    "from sklearn.metrics import confusion_matrix, classification_report\n"
   ]
  },
  {
   "cell_type": "code",
   "execution_count": 4,
   "id": "4fe62c94",
   "metadata": {},
   "outputs": [
    {
     "name": "stdout",
     "output_type": "stream",
     "text": [
      "[[5 3]\n",
      " [4 2]]\n"
     ]
    }
   ],
   "source": [
    "# cm = confusion_matrix\n",
    "cm = confusion_matrix(y_true,y_pred)\n",
    "print(cm)\n",
    "\n",
    "# Actual value = 0, Predicted value = 0 => TP = 5\n",
    "# Actual value = 0, Predicted value = 1 => FN = 3\n",
    "# Actual value = 1, Predicted value = 0 => FP = 4\n",
    "# Actual value = 1, Predicted value = 1 => TN = 2\n",
    "\n",
    "# [TP = 5 , FN = 3]\n",
    "# [FP = 4 , TN = 2]"
   ]
  },
  {
   "cell_type": "code",
   "execution_count": 5,
   "id": "b26af660",
   "metadata": {},
   "outputs": [
    {
     "name": "stdout",
     "output_type": "stream",
     "text": [
      "              precision    recall  f1-score   support\n",
      "\n",
      "           0       0.56      0.62      0.59         8\n",
      "           1       0.40      0.33      0.36         6\n",
      "\n",
      "    accuracy                           0.50        14\n",
      "   macro avg       0.48      0.48      0.48        14\n",
      "weighted avg       0.49      0.50      0.49        14\n",
      "\n"
     ]
    }
   ],
   "source": [
    "print(classification_report(y_true,y_pred))"
   ]
  },
  {
   "cell_type": "markdown",
   "id": "5f740989",
   "metadata": {},
   "source": [
    "### Validation of Classification report"
   ]
  },
  {
   "cell_type": "code",
   "execution_count": 16,
   "id": "edf9ffaa",
   "metadata": {},
   "outputs": [],
   "source": [
    "pre0 = 5/(5+4) #TP/(TP+FP)\n",
    "pre1 = 2/(2+3) #TN(TN+FN)\n",
    "rec0 = 5/(5+3) #TP/(TP+FN)\n",
    "rec1 = 2/(2+4) #TN/(TN+FP)"
   ]
  },
  {
   "cell_type": "code",
   "execution_count": 17,
   "id": "de0306f5",
   "metadata": {},
   "outputs": [
    {
     "name": "stdout",
     "output_type": "stream",
     "text": [
      "Pre0 : 0.56 \n",
      "Pre1 0.4\n",
      "Rec0 : 0.62 \n",
      "Rec1 0.33\n"
     ]
    }
   ],
   "source": [
    "print('Pre0 :',round(pre0,2) ,'\\nPre1' , round(pre1,2))\n",
    "print('Rec0 :',round(rec0,2) , '\\nRec1' , round(rec1,2))"
   ]
  },
  {
   "cell_type": "code",
   "execution_count": 23,
   "id": "c6fe77b5",
   "metadata": {},
   "outputs": [],
   "source": [
    "f1score_0 = 2*(pre0*rec0)/(pre0+rec0) #2*(pre * rec) / (pre + rec)\n",
    "f1score_1 = 2*(pre1*rec1)/(pre1+rec1) #2*(pre * rec) / (pre + rec)\n",
    "accurancy  = (5+2) / (5+3+4+2) # (TP+TN) / (TP+TN+FP+FN)\n"
   ]
  },
  {
   "cell_type": "code",
   "execution_count": 26,
   "id": "7ef2dda6",
   "metadata": {},
   "outputs": [
    {
     "name": "stdout",
     "output_type": "stream",
     "text": [
      "F1_Score_0 : 0.59 \n",
      "F1_Score_1: 0.36\n",
      "Accurancy : 0.5\n"
     ]
    }
   ],
   "source": [
    "print('F1_Score_0 :', round(f1score_0,2), '\\nF1_Score_1:', round(f1score_1,2))\n",
    "print('Accurancy :', accurancy)"
   ]
  },
  {
   "cell_type": "code",
   "execution_count": 27,
   "id": "52a9718b",
   "metadata": {},
   "outputs": [],
   "source": [
    "mac_avg_pre = (pre0 + pre1)/2\n",
    "mac_avg_rec = (rec0 + rec1)/2\n",
    "mac_avg_f1score = (f1score_0 + f1score_1)/2"
   ]
  },
  {
   "cell_type": "code",
   "execution_count": 30,
   "id": "ec223197",
   "metadata": {},
   "outputs": [
    {
     "name": "stdout",
     "output_type": "stream",
     "text": [
      "Macro_avg_pre:  0.48\n",
      "Macro_avg_rec:  0.48\n",
      "Macro_avg_f1score:  0.48\n"
     ]
    }
   ],
   "source": [
    "print('Macro_avg_pre: ', round(mac_avg_pre,2))\n",
    "print('Macro_avg_rec: ', round(mac_avg_rec,2))\n",
    "print('Macro_avg_f1score: ', round(mac_avg_f1score,2))"
   ]
  },
  {
   "cell_type": "code",
   "execution_count": 31,
   "id": "622b1d4e",
   "metadata": {},
   "outputs": [
    {
     "name": "stdout",
     "output_type": "stream",
     "text": [
      "weightedro_avg_pre:  0.49\n",
      "weightedro_avg_rec:  0.5\n",
      "weightedro_avg_f1score:  0.49\n"
     ]
    }
   ],
   "source": [
    "weighted_avg_pre = (pre0*8 + pre1*6)/14\n",
    "weighted_avg_rec = (rec0*8 + rec1*6)/14\n",
    "weighted_avg_f1score = (f1score_0*8 + f1score_1*6)/14\n",
    "\n",
    "print('weightedro_avg_pre: ', round(weighted_avg_pre,2))\n",
    "print('weightedro_avg_rec: ', round(weighted_avg_rec,2))\n",
    "print('weightedro_avg_f1score: ', round(weighted_avg_f1score,2))"
   ]
  },
  {
   "cell_type": "code",
   "execution_count": null,
   "id": "872b645f",
   "metadata": {},
   "outputs": [],
   "source": []
  }
 ],
 "metadata": {
  "kernelspec": {
   "display_name": "Python 3 (ipykernel)",
   "language": "python",
   "name": "python3"
  },
  "language_info": {
   "codemirror_mode": {
    "name": "ipython",
    "version": 3
   },
   "file_extension": ".py",
   "mimetype": "text/x-python",
   "name": "python",
   "nbconvert_exporter": "python",
   "pygments_lexer": "ipython3",
   "version": "3.10.9"
  }
 },
 "nbformat": 4,
 "nbformat_minor": 5
}
